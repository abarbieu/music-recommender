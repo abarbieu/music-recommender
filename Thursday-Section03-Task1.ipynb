{
 "cells": [
  {
   "cell_type": "markdown",
   "metadata": {},
   "source": [
    "**CSC 466: Knowledge Discovery in Data**\n",
    "\n",
    "**Individual Test**\n",
    "\n",
    "**Thursday, December 2, 2021**\n",
    "\n",
    "**Section 03: Task 1**"
   ]
  },
  {
   "cell_type": "markdown",
   "metadata": {},
   "source": [
    "**Your Name : put your name here!**\n",
    "\n",
    "**Cal Poly Email: put your email here**\n"
   ]
  },
  {
   "cell_type": "markdown",
   "metadata": {},
   "source": [
    "**Your Assignment**:\n",
    "\n",
    "For this assignment, you will implement a study of two different Collaborative Filtering methods.\n",
    "\n",
    "You will implement User-based Adjusted Weighted Sum Recommendations with Cosine similarity and Pearson Correlation similarity as options. Your goal is to check which similarity score yields better predictions on our dataset.\n",
    "\n",
    "You need to complete four tasks:\n",
    "\n",
    "1. Implement the cosine similarity function\n",
    "\n",
    "2. Implement the Pearson correlation similarity function\n",
    "\n",
    "3. Implement the User-based Adjusted Weighted Sum Recommendation computation (that uses a similarity metric as a parameter)\n",
    "\n",
    "4. Develop the full study for comparing MAE (Mean Absolute Error) values for each of the methods.\n",
    "\n",
    "Look for cells with **Your Task: Step X** text for secific instructions for each step.\n"
   ]
  },
  {
   "cell_type": "code",
   "execution_count": 1,
   "metadata": {},
   "outputs": [],
   "source": [
    "## Imports\n",
    "\n",
    "import numpy as np\n",
    "import pandas as pd\n",
    "from matplotlib import pyplot as plt\n",
    "import seaborn\n",
    "%matplotlib inline"
   ]
  },
  {
   "cell_type": "markdown",
   "metadata": {},
   "source": [
    "**Data**\n",
    "\n",
    "We use a toy dataset documenting the scores 10 different people gave to 10 different movies.  For the sake of simplicity, this dataset is **dense**, i.e., it does not have missing values. \n",
    "\n",
    "The scores are in the range [-5, 5], where -5 is negative score, 5 is positive, and 0 is neutral. All scores in the dataset are integers, so we are working with an 11-point scale.\n"
   ]
  },
  {
   "cell_type": "code",
   "execution_count": 2,
   "metadata": {},
   "outputs": [],
   "source": [
    "## the data for this assignment\n",
    "\n",
    "## DO NOT MODIFY THIS VARIABLE!!!!\n",
    "\n",
    "data = np.array([[-4, -2, 3, 4, 0, -1, 0, -5, 4, 3],\n",
    "                 [-3, -2, 4, 3, -1, 0, 0, -3, 2, 4],\n",
    "                 [-5, -3, 3, 5,  1, 0, -1,-1, 1, 3],\n",
    "                 [ 0,  1, 4, 5, 2, 1,  2, 0,  4, 4],\n",
    "                 [0,   2, 2, 4,  2, 0, 3, -5, -2,0],\n",
    "                 [1,   4, 4, 3,  0, 4, 4, 2,  2, -1],\n",
    "                 [2,   3, 5, 5, -1, 3, 4, 2,  3,  0],\n",
    "                 [5,   5, 5, 5, -5, 5, 5, 0,  0, -5],\n",
    "                 [4,   3, 4, 4, -2, 3, 0, -1, -1, -4],\n",
    "                 [3,  -3, 5, 5, -5, 5, 0, 0,  -5, 0]    \n",
    "])\n",
    "\n",
    "### to add some color and give you ability to produce meaningful output, here is the list of users \n",
    "### user in row 1 is \"Alice\", in row 2 is \"Bob\" and so on\n",
    "\n",
    "users = [\"Alice\", \"Bob\", \"Christie\", \"David\", \"Emily\", \"Frank\", \"Gina\", \"Ignacio\", \"Jenny\", \"Mark\"]\n",
    "\n",
    "### we use fruit as items here. Column 1 is \"Apples\", column 2 is \"Bananas\", etc...\n",
    "\n",
    "items = [\"Apples\", \"Bananas\", \"Cherries\", \"Dragonfruit\", \"Figs\", \"Grapes\", \"Kiwis\", \"Pears\", \"Raspberries\", \"Starfruit\"]\n",
    "\n",
    "\n",
    "## the toyData array may be useful for debugging purposes. Feel free to modify it as you see fit\n",
    "\n",
    "toyData  = np.array([[5,5,0,-5],\n",
    "                     [5,5,0,-5],\n",
    "                     [0,0,5,0]       \n",
    "])\n"
   ]
  },
  {
   "cell_type": "markdown",
   "metadata": {},
   "source": [
    "**Your Task: Step 1: Implement Cosine similarity function**\n",
    "\n",
    "Implement the function\n",
    "\n",
    "    cosSimilarity(v,u,i)\n",
    "  \n",
    "where\n",
    "    \n",
    "        v,u are vectors of the same length\n",
    "        i is a number in the range 0,..,len(v)-1\n",
    "\n",
    "This function outputs the cosine similarity between vectors **v** and **u**, after coordinate **i** is excluded from both vectors (please note this last modification!)\n",
    "\n",
    "If you need it, you can assume that both **v** and **u** are NumPy arrays.\n",
    "\n",
    "Recall the formula for cosine similarity:\n",
    "\n",
    "$$cos(x,y) = \\frac{x\\cdot y}{|x|_2 |y|_2} = \\frac{\\sum_{i=1}^d x_iy_i}{\\sqrt{\\sum_{i=1}^d x_i^2}\\sqrt{\\sum_{i=1}^d y_i^2}}$$\n"
   ]
  },
  {
   "cell_type": "code",
   "execution_count": 3,
   "metadata": {},
   "outputs": [],
   "source": [
    "def cosSimilarity(v,u,i):\n",
    "    v=np.delete(v,i)\n",
    "    u=np.delete(u,i)\n",
    "    return np.dot(u,v)/np.dot(np.linalg.norm(u), np.linalg.norm(v))"
   ]
  },
  {
   "cell_type": "code",
   "execution_count": 4,
   "metadata": {},
   "outputs": [
    {
     "data": {
      "text/plain": [
       "-1.0"
      ]
     },
     "execution_count": 4,
     "metadata": {},
     "output_type": "execute_result"
    }
   ],
   "source": [
    "## debug and test cosSimilarity here\n",
    "test = np.array([1,2,3,4])\n",
    "# test2 = np.array([1,2,3,4])\n",
    "\n",
    "test2 = np.array([-1, -2, -3, -4])\n",
    "cosSimilarity(test, test2, 2)\n"
   ]
  },
  {
   "cell_type": "markdown",
   "metadata": {},
   "source": [
    "**Your Task: Step 2: Implement Pearson Correlation function**\n",
    "\n",
    "Implement the function\n",
    "\n",
    "    pearsonSimilarity(v,u,i)\n",
    "  \n",
    "where\n",
    "    \n",
    "        v,u are vectors of the same length\n",
    "        i is a number in the range 0,..,len(v)-1\n",
    "\n",
    "This function outputs the Pearson Correlation coefficient between vectors **v** and **u**, after coordinate **i** is excluded from both vectors (please note this last modification!)\n",
    "\n",
    "If you need it, you can assume that both **v** and **u** are NumPy arrays.\n",
    "\n",
    "Recall the formula for Pearson Correlation Coefficient\n",
    "\n",
    "$$pearson(x,y) = \\frac{(x-\\bar{x})\\cdot (y-\\bar{y})}{|x-\\bar{x}|_2 |y-\\bar{y}|_2} = \n",
    "                 \\frac{\\sum_{i=1}^d (x-\\bar{x})(y-\\bar{y})}{\\sqrt{\\sum_{i=1}^d (x-\\bar{x})^2}\\sqrt{\\sum_{i=1}^d (y-\\bar{y})^2}}\n",
    "$$\n",
    "\n",
    "Here, \n",
    " $$\\bar{x} = \\frac{1}{d}\\sum_{i=1}^{d}x_i$$\n",
    " and\n",
    " $$\\bar{y} = \\frac{1}{d}\\sum_{i=1}^{d}y_i$$\n",
    "i.e., $\\bar{x}$ and $\\bar{y}$ are respective average values of a coordinate in vectors $x$ and $y$.\n"
   ]
  },
  {
   "cell_type": "code",
   "execution_count": 5,
   "metadata": {},
   "outputs": [],
   "source": [
    "def pearsonSimilarity(v,u,i):\n",
    "    v=np.delete(v,i)\n",
    "    u=np.delete(u,i)\n",
    "    vbar = np.mean(v)\n",
    "    ubar = np.mean(u)\n",
    "    num = np.sum((u-ubar)*(v-vbar))\n",
    "    ## compute Pearson Correlation Coefficient\n",
    "   \n",
    "    return  num/np.dot(np.linalg.norm(u-ubar), np.linalg.norm(v-vbar))\n"
   ]
  },
  {
   "cell_type": "code",
   "execution_count": 6,
   "metadata": {},
   "outputs": [
    {
     "data": {
      "text/plain": [
       "1.0000000000000002"
      ]
     },
     "execution_count": 6,
     "metadata": {},
     "output_type": "execute_result"
    }
   ],
   "source": [
    "## debug and test pearsonSimilarity() here\n",
    "test1=test\n",
    "pearsonSimilarity(test, test1, 2)"
   ]
  },
  {
   "cell_type": "markdown",
   "metadata": {},
   "source": [
    "**Your Task: Step 3: Implement Adjusted Weighted User Based Recommendations**\n",
    "        \n",
    "Implement the function\n",
    "\n",
    "     awUserBasedRecommendation(data, user, item, simFunction)\n",
    "    \n",
    "where  \n",
    "\n",
    "    data is the dataset\n",
    "    (user, item) is the user, item pair for which the prediction needs to be generated\n",
    "    simFunction is the name of the function to be used for similarity computation\n",
    "    \n",
    "We have two options for the similarity function: *cosSimilarity* and *pearsonSimilarity*\n",
    "\n",
    "**You can look up the specific formulas in our Collaborative Filtering handout.**\n",
    "\n",
    "The function shall return a single value: the predicted rating.\n",
    "    \n",
    "    "
   ]
  },
  {
   "cell_type": "code",
   "execution_count": 7,
   "metadata": {},
   "outputs": [],
   "source": [
    "## returns adjusted weighted, user based recommendation prediction for (user, item) pair\n",
    "def awUserBasedRecommendation(data, user, item, simFunction):\n",
    "    restData = np.delete(data,user,axis=0)\n",
    "    udata= data[user]\n",
    "    sims = np.apply_along_axis(lambda x: simFunction(x, udata, item), 1, restData)\n",
    "    k = 1/np.sum(sims)\n",
    "    \n",
    "    prediction = 0  ## use this variable to compute your prediction\n",
    "    \n",
    "    residuals = restData[:,item] - np.mean(restData,axis=1)\n",
    "    \n",
    "    ubar = np.mean(udata)\n",
    "    return ubar + k*np.sum(sims*residuals)\n",
    "        "
   ]
  },
  {
   "cell_type": "code",
   "execution_count": 8,
   "metadata": {},
   "outputs": [
    {
     "data": {
      "text/plain": [
       "-2.215989257987782"
      ]
     },
     "execution_count": 8,
     "metadata": {},
     "output_type": "execute_result"
    }
   ],
   "source": [
    "## test and debug awUserBasedRecommendation\n",
    "awUserBasedRecommendation(data, 0, 0, cosSimilarity)"
   ]
  },
  {
   "cell_type": "markdown",
   "metadata": {},
   "source": [
    "**Your Task: Step 4: Conduct the Comparative Study**\n",
    "\n",
    "In this study, perform the following tasks:\n",
    "\n",
    "1. For each pair (user, item) in the dataset, compute both the cosine-similarity based recommendation and the Pearson correlation based recommendation\n",
    "\n",
    "2. Compute the errors for each recommendation\n",
    "\n",
    "3. For each pair (user, item) output the following information:\n",
    "\n",
    "    user, item, score, Cosine-predicted score, Error of cosine-predicted score, Pearson-predicted score, Error of Pearson-predicted score\n",
    "\n",
    "4. Compute the MAE (mean absolute error) for each of the two methods. Report both MAEs (one per line, with some text labeling) after you print out all individual predictions.\n"
   ]
  },
  {
   "cell_type": "code",
   "execution_count": 9,
   "metadata": {},
   "outputs": [
    {
     "name": "stdout",
     "output_type": "stream",
     "text": [
      "user: 0, item: 0, cosine Pred: -2.215989257987782, cosine err: -1.7840107420122182, pearson Pred: -2.5793018717678904, pearson err: -1.4206981282321096\n",
      "user: 0, item: 1, cosine Pred: -1.2763039824754252, cosine err: -0.7236960175245748, pearson Pred: -1.4540535484107864, pearson err: -0.5459464515892136\n",
      "user: 0, item: 2, cosine Pred: 2.656161235439824, cosine err: 0.3438387645601759, pearson Pred: 2.540596773588467, pearson err: 0.4594032264115331\n",
      "user: 0, item: 3, cosine Pred: 3.777878739529769, cosine err: 0.22212126047023117, pearson Pred: 3.5176592347264903, pearson err: 0.48234076527350966\n",
      "user: 0, item: 4, cosine Pred: 0.12355077636590898, cosine err: -0.12355077636590898, pearson Pred: 0.28840096225564504, pearson err: -0.28840096225564504\n",
      "user: 0, item: 5, cosine Pred: -0.2642884108908648, cosine err: -0.7357115891091353, pearson Pred: -0.46002853661361404, pearson err: -0.5399714633863859\n",
      "user: 0, item: 6, cosine Pred: 0.058799356661828756, cosine err: -0.058799356661828756, pearson Pred: 0.0020356623287460796, pearson err: -0.0020356623287460796\n",
      "user: 0, item: 7, cosine Pred: -2.0297333498719468, cosine err: -2.9702666501280532, pearson Pred: -2.159634823476666, pearson err: -2.840365176523334\n",
      "user: 0, item: 8, cosine Pred: 0.36135440511737776, cosine err: 3.638645594882622, pearson Pred: 0.4051275766895367, pearson err: 3.594872423310463\n",
      "user: 0, item: 9, cosine Pred: 1.8495656958570876, cosine err: 1.1504343041429124, pearson Pred: 1.2669838095916433, pearson err: 1.7330161904083567\n",
      "user: 1, item: 0, cosine Pred: -1.800538708063434, cosine err: -1.199461291936566, pearson Pred: -2.2102250009555022, pearson err: -0.7897749990444978\n",
      "user: 1, item: 1, cosine Pred: -0.9155587530757384, cosine err: -1.0844412469242615, pearson Pred: -1.2420137756240965, pearson err: -0.7579862243759035\n",
      "user: 1, item: 2, cosine Pred: 2.731295939234235, cosine err: 1.268704060765765, pearson Pred: 2.653081617498091, pearson err: 1.3469183825019089\n",
      "user: 1, item: 3, cosine Pred: 4.320659198557769, cosine err: -1.3206591985577694, pearson Pred: 4.2491722854923415, pearson err: -1.2491722854923415\n",
      "user: 1, item: 4, cosine Pred: 0.11984634349332601, cosine err: -1.1198463434933261, pearson Pred: 0.9501019790350531, pearson err: -1.9501019790350531\n",
      "user: 1, item: 5, cosine Pred: 0.10428834572258439, cosine err: -0.10428834572258439, pearson Pred: -0.14118795519754057, pearson err: 0.14118795519754057\n",
      "user: 1, item: 6, cosine Pred: 0.3563392386350629, cosine err: -0.3563392386350629, pearson Pred: 0.22036960150121654, pearson err: -0.22036960150121654\n",
      "user: 1, item: 7, cosine Pred: -2.1564841162044877, cosine err: -0.8435158837955123, pearson Pred: -2.3380835366749104, pearson err: -0.6619164633250896\n",
      "user: 1, item: 8, cosine Pred: 0.9405718802646248, cosine err: 1.0594281197353752, pearson Pred: 1.1176397043271455, pearson err: 0.8823602956728545\n",
      "user: 1, item: 9, cosine Pred: 0.8713245941550334, cosine err: 3.128675405844967, pearson Pred: 0.4876145438900941, pearson err: 3.512385456109906\n",
      "user: 2, item: 0, cosine Pred: -1.52206708101056, cosine err: -3.47793291898944, pearson Pred: -2.08153254555273, pearson err: -2.91846745444727\n",
      "user: 2, item: 1, cosine Pred: -1.0499644690114203, cosine err: -1.9500355309885797, pearson Pred: -1.4800577438740623, pearson err: -1.5199422561259377\n",
      "user: 2, item: 2, cosine Pred: 3.0463800528469185, cosine err: -0.046380052846918485, pearson Pred: 2.9090843661901706, pearson err: 0.09091563380982937\n",
      "user: 2, item: 3, cosine Pred: 4.117153364653378, cosine err: 0.8828466353466222, pearson Pred: 3.715221360747016, pearson err: 1.284778639252984\n",
      "user: 2, item: 4, cosine Pred: -0.44258485409729514, cosine err: 1.4425848540972952, pearson Pred: -0.18046578393627744, pearson err: 1.1804657839362775\n",
      "user: 2, item: 5, cosine Pred: -0.41964171125298894, cosine err: 0.41964171125298894, pearson Pred: -0.7028368133327652, pearson err: 0.7028368133327652\n",
      "user: 2, item: 6, cosine Pred: 0.36918103223053256, cosine err: -1.3691810322305327, pearson Pred: 0.19534231264568258, pearson err: -1.1953423126456826\n",
      "user: 2, item: 7, cosine Pred: -3.3214968144100756, cosine err: 2.3214968144100756, pearson Pred: -3.5268653337569553, pearson err: 2.5268653337569553\n",
      "user: 2, item: 8, cosine Pred: 1.6667191290454522, cosine err: -0.6667191290454522, pearson Pred: 1.9045173006918312, pearson err: -0.9045173006918312\n",
      "user: 2, item: 9, cosine Pred: 2.232360457871288, cosine err: 0.7676395421287121, pearson Pred: 1.8910747870948967, pearson err: 1.1089252129051033\n",
      "user: 3, item: 0, cosine Pred: 0.40111096001398217, cosine err: -0.40111096001398217, pearson Pred: -0.9777027106671361, pearson err: 0.9777027106671361\n",
      "user: 3, item: 1, cosine Pred: 1.6168022996107831, cosine err: -0.6168022996107831, pearson Pred: 0.32406822478912845, pearson err: 0.6759317752108716\n",
      "user: 3, item: 2, cosine Pred: 4.817135806610818, cosine err: -0.8171358066108176, pearson Pred: 5.126943174759485, pearson err: -1.126943174759485\n",
      "user: 3, item: 3, cosine Pred: 5.039726313465083, cosine err: -0.03972631346508315, pearson Pred: 6.26939527856462, pearson err: -1.2693952785646196\n",
      "user: 3, item: 4, cosine Pred: 0.29633457508222305, cosine err: 1.703665424917777, pearson Pred: 2.4498327791065195, pearson err: -0.44983277910651953\n",
      "user: 3, item: 5, cosine Pred: 2.6565537334878044, cosine err: -1.6565537334878044, pearson Pred: 1.9201324835944953, pearson err: -0.9201324835944953\n",
      "user: 3, item: 6, cosine Pred: 2.7762172644884426, cosine err: -0.7762172644884426, pearson Pred: 2.1134115276907486, pearson err: -0.11341152769074858\n",
      "user: 3, item: 7, cosine Pred: -0.24967106128087657, cosine err: 0.24967106128087657, pearson Pred: -1.185118540939936, pearson err: 1.185118540939936\n",
      "user: 3, item: 8, cosine Pred: 2.017211910282987, cosine err: 1.9827880897170131, pearson Pred: 3.1028251493620522, pearson err: 0.8971748506379478\n",
      "user: 3, item: 9, cosine Pred: 1.1433458104940601, cosine err: 2.8566541895059396, pearson Pred: 3.523162392094635, pearson err: 0.4768376079053649\n",
      "user: 4, item: 0, cosine Pred: -0.42667679144743664, cosine err: 0.42667679144743664, pearson Pred: -0.4006518801494455, pearson err: 0.4006518801494455\n",
      "user: 4, item: 1, cosine Pred: -0.2495941025445485, cosine err: 2.2495941025445485, pearson Pred: -0.30930074041536526, pearson err: 2.3093007404153654\n",
      "user: 4, item: 2, cosine Pred: 3.328425209002952, cosine err: -1.328425209002952, pearson Pred: 3.339697896872487, pearson err: -1.339697896872487\n",
      "user: 4, item: 3, cosine Pred: 3.3737653576867235, cosine err: 0.6262346423132765, pearson Pred: 3.3657037323943215, pearson err: 0.6342962676056785\n",
      "user: 4, item: 4, cosine Pred: -2.140346781691253, cosine err: 4.140346781691253, pearson Pred: -2.166936791454787, pearson err: 4.166936791454787\n",
      "user: 4, item: 5, cosine Pred: 1.4283000293434136, cosine err: -1.4283000293434136, pearson Pred: 1.4129581267951468, pearson err: -1.4129581267951468\n",
      "user: 4, item: 6, cosine Pred: 0.6617964356587931, cosine err: 2.3382035643412067, pearson Pred: 0.6239529523078495, pearson err: 2.3760470476921505\n",
      "user: 4, item: 7, cosine Pred: -0.9778442404507771, cosine err: -4.022155759549223, pearson Pred: -0.6879747500582657, pearson err: -4.312025249941734\n",
      "user: 4, item: 8, cosine Pred: 1.0735652549858175, cosine err: -3.0735652549858177, pearson Pred: 1.4815612168619332, pearson err: -3.481561216861933\n",
      "user: 4, item: 9, cosine Pred: -0.2601635551898387, cosine err: 0.2601635551898387, pearson Pred: 0.04886232638391208, pearson err: -0.04886232638391208\n",
      "user: 5, item: 0, cosine Pred: 2.6875693765588293, cosine err: -1.6875693765588293, pearson Pred: 5.912177961449553, pearson err: -4.912177961449553\n",
      "user: 5, item: 1, cosine Pred: 2.33001394528547, cosine err: 1.66998605471453, pearson Pred: 2.9364042906126695, pearson err: 1.0635957093873305\n",
      "user: 5, item: 2, cosine Pred: 4.804001477167251, cosine err: -0.804001477167251, pearson Pred: 5.1839298579853565, pearson err: -1.1839298579853565\n",
      "user: 5, item: 3, cosine Pred: 5.065142115272707, cosine err: -2.0651421152727067, pearson Pred: 5.216500845861911, pearson err: -2.216500845861911\n",
      "user: 5, item: 4, cosine Pred: -1.0147708665058146, cosine err: 1.0147708665058146, pearson Pred: -1.9493435394118945, pearson err: 1.9493435394118945\n",
      "user: 5, item: 5, cosine Pred: 3.2310629452673254, cosine err: 0.7689370547326746, pearson Pred: 4.091023556776127, pearson err: -0.09102355677612728\n",
      "user: 5, item: 6, cosine Pred: 3.056056612624826, cosine err: 0.9439433873751741, pearson Pred: 3.405715789924068, pearson err: 0.5942842100759318\n",
      "user: 5, item: 7, cosine Pred: -0.01763310744639357, cosine err: 2.0176331074463936, pearson Pred: 0.5648072649337774, pearson err: 1.4351927350662226\n",
      "user: 5, item: 8, cosine Pred: 0.903166601027861, cosine err: 1.096833398972139, pearson Pred: 0.3026992182062589, pearson err: 1.697300781793741\n",
      "user: 5, item: 9, cosine Pred: -0.007532265408100258, cosine err: -0.9924677345918997, pearson Pred: 0.32314930980781, pearson err: -1.32314930980781\n",
      "user: 6, item: 0, cosine Pred: 2.1130605290338, cosine err: -0.11306052903379982, pearson Pred: 3.0874800386760004, pearson err: -1.0874800386760004\n",
      "user: 6, item: 1, cosine Pred: 2.635028754020379, cosine err: 0.36497124597962083, pearson Pred: 2.8733961268466897, pearson err: 0.12660387315331034\n",
      "user: 6, item: 2, cosine Pred: 5.025709372726219, cosine err: -0.02570937272621876, pearson Pred: 5.321164488735667, pearson err: -0.3211644887356666\n",
      "user: 6, item: 3, cosine Pred: 4.967906058670821, cosine err: 0.032093941329178755, pearson Pred: 5.165816345715097, pearson err: -0.16581634571509696\n",
      "user: 6, item: 4, cosine Pred: 0.012747909008922864, cosine err: -1.0127479090089229, pearson Pred: 0.1467738181585685, pearson err: -1.1467738181585685\n",
      "user: 6, item: 5, cosine Pred: 3.7158195391725912, cosine err: -0.7158195391725912, pearson Pred: 4.195675881036592, pearson err: -1.1956758810365917\n",
      "user: 6, item: 6, cosine Pred: 3.208244745176448, cosine err: 0.7917552548235518, pearson Pred: 3.259654999887333, pearson err: 0.7403450001126668\n",
      "user: 6, item: 7, cosine Pred: 0.2601885140948679, cosine err: 1.7398114859051321, pearson Pred: 0.5801374199622109, pearson err: 1.419862580037789\n",
      "user: 6, item: 8, cosine Pred: 1.3369605219958025, cosine err: 1.6630394780041975, pearson Pred: 1.2168964675117522, pearson err: 1.7831035324882478\n",
      "user: 6, item: 9, cosine Pred: 0.6603823037057606, cosine err: -0.6603823037057606, pearson Pred: 1.3887870219453438, pearson err: -1.3887870219453438\n",
      "user: 7, item: 0, cosine Pred: 2.2702580840145425, cosine err: 2.7297419159854575, pearson Pred: 2.9594782712423657, pearson err: 2.0405217287576343\n",
      "user: 7, item: 1, cosine Pred: 2.327529374859528, cosine err: 2.672470625140472, pearson Pred: 2.7951114959467676, pearson err: 2.2048885040532324\n",
      "user: 7, item: 2, cosine Pred: 4.450050399609608, cosine err: 0.5499496003903923, pearson Pred: 4.604098616463477, pearson err: 0.3959013835365228\n",
      "user: 7, item: 3, cosine Pred: 3.96040906943653, cosine err: 1.0395909305634699, pearson Pred: 3.803222125579515, pearson err: 1.1967778744204849\n",
      "user: 7, item: 4, cosine Pred: -0.708301960583058, cosine err: -4.291698039416942, pearson Pred: -1.5219523416484306, pearson err: -3.4780476583515694\n",
      "user: 7, item: 5, cosine Pred: 3.6207790197407768, cosine err: 1.3792209802592232, pearson Pred: 4.169143558184383, pearson err: 0.8308564418156168\n",
      "user: 7, item: 6, cosine Pred: 2.6147715538343124, cosine err: 2.3852284461656876, pearson Pred: 2.8404848476925606, pearson err: 2.1595151523074394\n",
      "user: 7, item: 7, cosine Pred: 0.5385256096753288, cosine err: -0.5385256096753288, pearson Pred: 1.4744127638057916, pearson err: -1.4744127638057916\n",
      "user: 7, item: 8, cosine Pred: 0.18442379966813904, cosine err: -0.18442379966813904, pearson Pred: -0.2554815944201816, pearson err: 0.2554815944201816\n",
      "user: 7, item: 9, cosine Pred: -0.09462004546031855, cosine err: -4.905379954539681, pearson Pred: -0.4287630738198782, pearson err: -4.571236926180122\n",
      "user: 8, item: 0, cosine Pred: 1.1183588628358037, cosine err: 2.8816411371641966, pearson Pred: 1.3630726337764782, pearson err: 2.6369273662235218\n",
      "user: 8, item: 1, cosine Pred: 1.4314609935261962, cosine err: 1.5685390064738038, pearson Pred: 1.7538209051034916, pearson err: 1.2461790948965084\n",
      "user: 8, item: 2, cosine Pred: 3.575274423263925, cosine err: 0.4247255767360749, pearson Pred: 3.6883116898264476, pearson err: 0.31168831017355236\n",
      "user: 8, item: 3, cosine Pred: 3.0672193386113924, cosine err: 0.9327806613886076, pearson Pred: 2.9205584362325245, pearson err: 1.0794415637674755\n",
      "user: 8, item: 4, cosine Pred: -2.860162461316355, cosine err: 0.8601624613163552, pearson Pred: -3.664281111865307, pearson err: 1.6642811118653071\n",
      "user: 8, item: 5, cosine Pred: 3.000426278841044, cosine err: -0.0004262788410440699, pearson Pred: 3.360768692539567, pearson err: -0.3607686925395668\n",
      "user: 8, item: 6, cosine Pred: 2.7408152005135125, cosine err: -2.7408152005135125, pearson Pred: 3.081245536016421, pearson err: -3.081245536016421\n",
      "user: 8, item: 7, cosine Pred: -0.400646018258749, cosine err: -0.599353981741251, pearson Pred: 0.4200335747470171, pearson err: -1.4200335747470172\n",
      "user: 8, item: 8, cosine Pred: -0.7842944827465677, cosine err: -0.21570551725343234, pearson Pred: -1.0854732076504288, pearson err: 0.08547320765042876\n",
      "user: 8, item: 9, cosine Pred: -1.1680190856085275, cosine err: -2.8319809143914725, pearson Pred: -1.3000215217131665, pearson err: -2.6999784782868335\n",
      "user: 9, item: 0, cosine Pred: -0.12002026301082869, cosine err: 3.1200202630108285, pearson Pred: -0.14662631411352767, pearson err: 3.1466263141135276\n",
      "user: 9, item: 1, cosine Pred: 1.6862190201529081, cosine err: -4.686219020152908, pearson Pred: 1.9590183465453885, pearson err: -4.959018346545388\n",
      "user: 9, item: 2, cosine Pred: 3.174374166060038, cosine err: 1.825625833939962, pearson Pred: 3.118384628677735, pearson err: 1.881615371322265\n",
      "user: 9, item: 3, cosine Pred: 2.9452453174554463, cosine err: 2.0547546825445537, pearson Pred: 2.8257116886495717, pearson err: 2.1742883113504283\n",
      "user: 9, item: 4, cosine Pred: -1.8712053981587484, cosine err: -3.1287946018412516, pearson Pred: -1.9559376641161585, pearson err: -3.0440623358838415\n",
      "user: 9, item: 5, cosine Pred: 1.4682135425795617, cosine err: 3.5317864574204383, pearson Pred: 1.4168186008108883, pearson err: 3.5831813991891117\n",
      "user: 9, item: 6, cosine Pred: 1.380314935074927, cosine err: -1.380314935074927, pearson Pred: 1.4580851656219536, pearson err: -1.4580851656219536\n",
      "user: 9, item: 7, cosine Pred: -1.6199217204795153, cosine err: 1.6199217204795153, pearson Pred: -1.4562907705733572, pearson err: 1.4562907705733572\n",
      "user: 9, item: 8, cosine Pred: 0.3945677311449081, cosine err: -5.3945677311449085, pearson Pred: 0.4942480148998679, pearson err: -5.494248014899868\n",
      "user: 9, item: 9, cosine Pred: -2.1356828271947474, cosine err: 2.1356828271947474, pearson Pred: -2.3741926421391706, pearson err: 2.3741926421391706\n",
      "cosine MAE: 1.5036560758956794\n",
      "pearson MAE: 1.5403447582925933\n"
     ]
    }
   ],
   "source": [
    "## predict every single rating, output, compute errors, compute MAE for each method.\n",
    "pearson = []\n",
    "cosine = []\n",
    "for i in range(len(data)):\n",
    "    for j in range(len(data[0])):\n",
    "        cospred=awUserBasedRecommendation(data, i, j, cosSimilarity)\n",
    "        ppred=awUserBasedRecommendation(data, i, j, pearsonSimilarity)\n",
    "        coserr = data[i,j] - cospred\n",
    "        perr = data[i,j] - ppred\n",
    "        print(f\"user: {i}, item: {j}, cosine Pred: {cospred}, cosine err: {coserr}, pearson Pred: {ppred}, pearson err: {perr}\")\n",
    "        pearson.append(perr)\n",
    "        cosine.append(coserr)\n",
    "print(f\"cosine MAE: {np.mean(np.abs(cosine))}\")\n",
    "print(f\"pearson MAE: {np.mean(np.abs(pearson))}\")"
   ]
  },
  {
   "cell_type": "markdown",
   "metadata": {},
   "source": [
    "**Congratulations!** You are done.\n",
    "\n",
    "Download the notebook (right-click on the file name and select \"Download\" in the pop-up menu) and submit it using the\n",
    "\n",
    "        handin dekhtyar 466-test01 <file> \n",
    "        \n",
    " command."
   ]
  },
  {
   "cell_type": "code",
   "execution_count": null,
   "metadata": {},
   "outputs": [],
   "source": []
  }
 ],
 "metadata": {
  "kernelspec": {
   "display_name": "Python 3",
   "language": "python",
   "name": "python3"
  },
  "language_info": {
   "codemirror_mode": {
    "name": "ipython",
    "version": 3
   },
   "file_extension": ".py",
   "mimetype": "text/x-python",
   "name": "python",
   "nbconvert_exporter": "python",
   "pygments_lexer": "ipython3",
   "version": "3.8.8"
  }
 },
 "nbformat": 4,
 "nbformat_minor": 4
}
