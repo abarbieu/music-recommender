{
 "cells": [
  {
   "cell_type": "code",
   "execution_count": 8,
   "id": "7114300d-343e-4caf-89f0-2b5afb7f81ad",
   "metadata": {},
   "outputs": [],
   "source": [
    "import numpy as np\n",
    "import pandas as pd\n",
    "from scipy import sparse\n",
    "from scipy import cluster\n",
    "from scipy import spatial\n",
    "from matplotlib import pyplot as plt\n",
    "import seaborn\n",
    "import copy\n",
    "%matplotlib inline"
   ]
  },
  {
   "cell_type": "markdown",
   "id": "7384264a-82ee-485f-b796-ae134683e56a",
   "metadata": {},
   "source": [
    "# Clustering by tags"
   ]
  },
  {
   "cell_type": "markdown",
   "id": "f2a2e3f6-6882-453a-b1f7-8b73e7a554d1",
   "metadata": {},
   "source": [
    "### Data Cleaning"
   ]
  },
  {
   "cell_type": "code",
   "execution_count": 12,
   "id": "72a88aee-71c7-48aa-953d-171229462e08",
   "metadata": {},
   "outputs": [],
   "source": [
    "big_set = pd.read_csv('./data/artists.csv', low_memory=False)"
   ]
  },
  {
   "cell_type": "code",
   "execution_count": 13,
   "id": "d3b7d5c6-b368-4a67-8ad5-3b472dca71d6",
   "metadata": {},
   "outputs": [],
   "source": [
    "artist_tags=big_set[['artist_mb', 'tags_mb']]"
   ]
  },
  {
   "cell_type": "code",
   "execution_count": 14,
   "id": "64378f53-5f5b-46a2-b888-6058e29d3f41",
   "metadata": {},
   "outputs": [
    {
     "data": {
      "text/html": [
       "<div>\n",
       "<style scoped>\n",
       "    .dataframe tbody tr th:only-of-type {\n",
       "        vertical-align: middle;\n",
       "    }\n",
       "\n",
       "    .dataframe tbody tr th {\n",
       "        vertical-align: top;\n",
       "    }\n",
       "\n",
       "    .dataframe thead th {\n",
       "        text-align: right;\n",
       "    }\n",
       "</style>\n",
       "<table border=\"1\" class=\"dataframe\">\n",
       "  <thead>\n",
       "    <tr style=\"text-align: right;\">\n",
       "      <th></th>\n",
       "      <th>artist_mb</th>\n",
       "      <th>tags_mb</th>\n",
       "    </tr>\n",
       "  </thead>\n",
       "  <tbody>\n",
       "    <tr>\n",
       "      <th>0</th>\n",
       "      <td>Coldplay</td>\n",
       "      <td>rock; pop; alternative rock; british; uk; brit...</td>\n",
       "    </tr>\n",
       "    <tr>\n",
       "      <th>1</th>\n",
       "      <td>Radiohead</td>\n",
       "      <td>rock; electronic; alternative rock; british; g...</td>\n",
       "    </tr>\n",
       "    <tr>\n",
       "      <th>2</th>\n",
       "      <td>Red Hot Chili Peppers</td>\n",
       "      <td>rock; alternative rock; 80s; 90s; rap; metal; ...</td>\n",
       "    </tr>\n",
       "    <tr>\n",
       "      <th>3</th>\n",
       "      <td>Rihanna</td>\n",
       "      <td>pop; dance; hip hop; reggae; contemporary r b;...</td>\n",
       "    </tr>\n",
       "    <tr>\n",
       "      <th>4</th>\n",
       "      <td>Eminem</td>\n",
       "      <td>turkish; rap; american; hip-hop; hip hop; hiph...</td>\n",
       "    </tr>\n",
       "    <tr>\n",
       "      <th>...</th>\n",
       "      <td>...</td>\n",
       "      <td>...</td>\n",
       "    </tr>\n",
       "    <tr>\n",
       "      <th>1466059</th>\n",
       "      <td>Kazushige Kinoshita</td>\n",
       "      <td>japanese; violinist; japan; chamber music; fre...</td>\n",
       "    </tr>\n",
       "    <tr>\n",
       "      <th>1466061</th>\n",
       "      <td>水越恵子</td>\n",
       "      <td>likedis auto</td>\n",
       "    </tr>\n",
       "    <tr>\n",
       "      <th>1466063</th>\n",
       "      <td>大槻ケンヂ</td>\n",
       "      <td>rock</td>\n",
       "    </tr>\n",
       "    <tr>\n",
       "      <th>1466069</th>\n",
       "      <td>孫耀威</td>\n",
       "      <td>chinese</td>\n",
       "    </tr>\n",
       "    <tr>\n",
       "      <th>1466070</th>\n",
       "      <td>金莎</td>\n",
       "      <td>chinese</td>\n",
       "    </tr>\n",
       "  </tbody>\n",
       "</table>\n",
       "<p>119943 rows × 2 columns</p>\n",
       "</div>"
      ],
      "text/plain": [
       "                     artist_mb  \\\n",
       "0                     Coldplay   \n",
       "1                    Radiohead   \n",
       "2        Red Hot Chili Peppers   \n",
       "3                      Rihanna   \n",
       "4                       Eminem   \n",
       "...                        ...   \n",
       "1466059    Kazushige Kinoshita   \n",
       "1466061                   水越恵子   \n",
       "1466063                  大槻ケンヂ   \n",
       "1466069                    孫耀威   \n",
       "1466070                     金莎   \n",
       "\n",
       "                                                   tags_mb  \n",
       "0        rock; pop; alternative rock; british; uk; brit...  \n",
       "1        rock; electronic; alternative rock; british; g...  \n",
       "2        rock; alternative rock; 80s; 90s; rap; metal; ...  \n",
       "3        pop; dance; hip hop; reggae; contemporary r b;...  \n",
       "4        turkish; rap; american; hip-hop; hip hop; hiph...  \n",
       "...                                                    ...  \n",
       "1466059  japanese; violinist; japan; chamber music; fre...  \n",
       "1466061                                       likedis auto  \n",
       "1466063                                               rock  \n",
       "1466069                                            chinese  \n",
       "1466070                                            chinese  \n",
       "\n",
       "[119943 rows x 2 columns]"
      ]
     },
     "execution_count": 14,
     "metadata": {},
     "output_type": "execute_result"
    }
   ],
   "source": [
    "artist_tags = artist_tags.dropna()\n",
    "artist_tags"
   ]
  },
  {
   "cell_type": "code",
   "execution_count": 15,
   "id": "89ff2842-c195-4a59-9b9f-1dd0e120519d",
   "metadata": {},
   "outputs": [
    {
     "data": {
      "text/html": [
       "<div>\n",
       "<style scoped>\n",
       "    .dataframe tbody tr th:only-of-type {\n",
       "        vertical-align: middle;\n",
       "    }\n",
       "\n",
       "    .dataframe tbody tr th {\n",
       "        vertical-align: top;\n",
       "    }\n",
       "\n",
       "    .dataframe thead th {\n",
       "        text-align: right;\n",
       "    }\n",
       "</style>\n",
       "<table border=\"1\" class=\"dataframe\">\n",
       "  <thead>\n",
       "    <tr style=\"text-align: right;\">\n",
       "      <th></th>\n",
       "      <th>artist_mb</th>\n",
       "      <th>tags_mb</th>\n",
       "    </tr>\n",
       "  </thead>\n",
       "  <tbody>\n",
       "    <tr>\n",
       "      <th>0</th>\n",
       "      <td>Coldplay</td>\n",
       "      <td>[rock, pop, alternative rock, british, uk, bri...</td>\n",
       "    </tr>\n",
       "    <tr>\n",
       "      <th>1</th>\n",
       "      <td>Radiohead</td>\n",
       "      <td>[rock, electronic, alternative rock, british, ...</td>\n",
       "    </tr>\n",
       "    <tr>\n",
       "      <th>2</th>\n",
       "      <td>Red Hot Chili Peppers</td>\n",
       "      <td>[rock, alternative rock, 80s, 90s, rap, metal,...</td>\n",
       "    </tr>\n",
       "    <tr>\n",
       "      <th>3</th>\n",
       "      <td>Rihanna</td>\n",
       "      <td>[pop, dance, hip hop, reggae, contemporary r b...</td>\n",
       "    </tr>\n",
       "    <tr>\n",
       "      <th>4</th>\n",
       "      <td>Eminem</td>\n",
       "      <td>[turkish, rap, american, hip-hop, hip hop, hip...</td>\n",
       "    </tr>\n",
       "    <tr>\n",
       "      <th>...</th>\n",
       "      <td>...</td>\n",
       "      <td>...</td>\n",
       "    </tr>\n",
       "    <tr>\n",
       "      <th>1466059</th>\n",
       "      <td>Kazushige Kinoshita</td>\n",
       "      <td>[japanese, violinist, japan, chamber music, fr...</td>\n",
       "    </tr>\n",
       "    <tr>\n",
       "      <th>1466061</th>\n",
       "      <td>水越恵子</td>\n",
       "      <td>[likedis auto]</td>\n",
       "    </tr>\n",
       "    <tr>\n",
       "      <th>1466063</th>\n",
       "      <td>大槻ケンヂ</td>\n",
       "      <td>[rock]</td>\n",
       "    </tr>\n",
       "    <tr>\n",
       "      <th>1466069</th>\n",
       "      <td>孫耀威</td>\n",
       "      <td>[chinese]</td>\n",
       "    </tr>\n",
       "    <tr>\n",
       "      <th>1466070</th>\n",
       "      <td>金莎</td>\n",
       "      <td>[chinese]</td>\n",
       "    </tr>\n",
       "  </tbody>\n",
       "</table>\n",
       "<p>119943 rows × 2 columns</p>\n",
       "</div>"
      ],
      "text/plain": [
       "                     artist_mb  \\\n",
       "0                     Coldplay   \n",
       "1                    Radiohead   \n",
       "2        Red Hot Chili Peppers   \n",
       "3                      Rihanna   \n",
       "4                       Eminem   \n",
       "...                        ...   \n",
       "1466059    Kazushige Kinoshita   \n",
       "1466061                   水越恵子   \n",
       "1466063                  大槻ケンヂ   \n",
       "1466069                    孫耀威   \n",
       "1466070                     金莎   \n",
       "\n",
       "                                                   tags_mb  \n",
       "0        [rock, pop, alternative rock, british, uk, bri...  \n",
       "1        [rock, electronic, alternative rock, british, ...  \n",
       "2        [rock, alternative rock, 80s, 90s, rap, metal,...  \n",
       "3        [pop, dance, hip hop, reggae, contemporary r b...  \n",
       "4        [turkish, rap, american, hip-hop, hip hop, hip...  \n",
       "...                                                    ...  \n",
       "1466059  [japanese, violinist, japan, chamber music, fr...  \n",
       "1466061                                     [likedis auto]  \n",
       "1466063                                             [rock]  \n",
       "1466069                                          [chinese]  \n",
       "1466070                                          [chinese]  \n",
       "\n",
       "[119943 rows x 2 columns]"
      ]
     },
     "execution_count": 15,
     "metadata": {},
     "output_type": "execute_result"
    }
   ],
   "source": [
    "artist_tags['tags_mb'] = artist_tags['tags_mb'].apply(lambda x: np.array([tag.strip() for tag in x.split(';')]))\n",
    "artist_tags"
   ]
  },
  {
   "cell_type": "code",
   "execution_count": 16,
   "id": "582e5e44-deab-46c9-af10-9f0ca5c39fb0",
   "metadata": {},
   "outputs": [],
   "source": [
    "artist_tags_len = artist_tags\n",
    "artist_tags_len['tags_len'] = artist_tags_len['tags_mb'].apply(lambda x: len(x))"
   ]
  },
  {
   "cell_type": "code",
   "execution_count": 17,
   "id": "27b5d2d4-d844-4fe4-bf9e-1857ca358ece",
   "metadata": {},
   "outputs": [],
   "source": [
    "np_artists = artist_tags_len['tags_mb'].to_numpy()"
   ]
  },
  {
   "cell_type": "code",
   "execution_count": 18,
   "id": "45f3b12f-55bc-46be-a954-cc2b0192a532",
   "metadata": {},
   "outputs": [
    {
     "data": {
      "text/plain": [
       "array([array(['rock', 'pop', 'alternative rock', 'british', 'uk', 'britannique',\n",
       "              'britpop', 'pop rock', 'piano pop', 'piano rock', 'english',\n",
       "              'parlophone', 'rock and indie', 'ambient pop', 'pop/rock',\n",
       "              'chapel', 'post-britpop'], dtype='<U16')                          ,\n",
       "       array(['rock', 'electronic', 'alternative rock', 'british', 'grunge',\n",
       "              'uk', 'britannique', 'britpop', 'art rock', 'experimental rock',\n",
       "              'english', 'chamber pop', 'parlophone', 'england', 'melancholic',\n",
       "              'oxford', 'bootleg', 'rock and indie', 'c’était mieux avant',\n",
       "              'art pop', 'nude', 'sacred cows'], dtype='<U19')                 ,\n",
       "       array(['rock', 'alternative rock', '80s', '90s', 'rap', 'metal',\n",
       "              'american', 'crossover', 'usa', 'funk', 'funk rock', 'alternative',\n",
       "              'pop rock', 'funk metal', 'rap rock', '00s', 'dvd',\n",
       "              'pop and chart', '10s', 'funk rock tributo'], dtype='<U17')        ,\n",
       "       ..., array(['rock'], dtype='<U4'), array(['chinese'], dtype='<U7'),\n",
       "       array(['chinese'], dtype='<U7')], dtype=object)"
      ]
     },
     "execution_count": 18,
     "metadata": {},
     "output_type": "execute_result"
    }
   ],
   "source": [
    "np_artists"
   ]
  },
  {
   "cell_type": "code",
   "execution_count": 19,
   "id": "fe7516d2-1534-4222-af7e-6c9593e7f58b",
   "metadata": {},
   "outputs": [],
   "source": [
    "indptr = [0]\n",
    "indices = []\n",
    "data = []\n",
    "vocabulary = {}\n",
    "for d in np_artists:\n",
    "    for term in d:\n",
    "        index = vocabulary.setdefault(term, len(vocabulary))\n",
    "        indices.append(index)\n",
    "        data.append(1)\n",
    "    indptr.append(len(indices))\n",
    "    \n",
    "\n",
    "tag_matrix = sparse.csr_matrix((data, indices, indptr), dtype=int)\n",
    "tmr = tag_matrix.toarray()"
   ]
  },
  {
   "cell_type": "code",
   "execution_count": 20,
   "id": "f8e93dcd-8dc9-4bbd-92b6-778b97295525",
   "metadata": {},
   "outputs": [
    {
     "data": {
      "text/plain": [
       "<119943x36091 sparse matrix of type '<class 'numpy.int32'>'\n",
       "\twith 305601 stored elements in Compressed Sparse Row format>"
      ]
     },
     "execution_count": 20,
     "metadata": {},
     "output_type": "execute_result"
    }
   ],
   "source": [
    "tag_matrix"
   ]
  },
  {
   "cell_type": "code",
   "execution_count": 30,
   "id": "4ebf65fe-3d6f-4222-9065-6f1b93666ee7",
   "metadata": {},
   "outputs": [],
   "source": [
    "from scipy.sparse import * \n",
    "from matplotlib import pyplot as plt\n",
    "from scipy.cluster.hierarchy import dendrogram\n",
    "from sklearn.cluster import AgglomerativeClustering"
   ]
  },
  {
   "cell_type": "code",
   "execution_count": 31,
   "id": "e8f56952-ef07-401c-a71e-75be063798e1",
   "metadata": {},
   "outputs": [],
   "source": [
    "def plot_dendrogram(model, **kwargs):\n",
    "    # Create linkage matrix and then plot the dendrogram\n",
    "\n",
    "    # create the counts of samples under each node\n",
    "    counts = np.zeros(model.children_.shape[0])\n",
    "    n_samples = len(model.labels_)\n",
    "    for i, merge in enumerate(model.children_):\n",
    "        current_count = 0\n",
    "        for child_idx in merge:\n",
    "            if child_idx < n_samples:\n",
    "                current_count += 1  # leaf node\n",
    "            else:\n",
    "                current_count += counts[child_idx - n_samples]\n",
    "        counts[i] = current_count\n",
    "\n",
    "    linkage_matrix = np.column_stack(\n",
    "        [model.children_, model.distances_, counts]\n",
    "    ).astype(float)\n",
    "\n",
    "    # Plot the corresponding dendrogram\n",
    "    dendrogram(linkage_matrix, **kwargs)"
   ]
  },
  {
   "cell_type": "code",
   "execution_count": 40,
   "id": "bf146ae2-d6f7-48f9-bb40-2d4f8019952c",
   "metadata": {},
   "outputs": [
    {
     "data": {
      "text/plain": [
       "array([135, 135, 145, ...,  20, 102, 102])"
      ]
     },
     "execution_count": 40,
     "metadata": {},
     "output_type": "execute_result"
    }
   ],
   "source": [
    "X=tag_matrix\n",
    "from sklearn.cluster import AgglomerativeClustering\n",
    "from sklearn.cluster import KMeans\n",
    "\n",
    "kmeans = KMeans(n_clusters=200, random_state=0).fit(X)\n",
    "kmeans.labels_\n"
   ]
  },
  {
   "cell_type": "code",
   "execution_count": 41,
   "id": "e802ba4a-7ab1-44d2-b534-22725ee4843b",
   "metadata": {},
   "outputs": [
    {
     "data": {
      "text/plain": [
       "array([135, 135, 145, ...,  20, 102, 102])"
      ]
     },
     "execution_count": 41,
     "metadata": {},
     "output_type": "execute_result"
    }
   ],
   "source": [
    "kmeans.labels_"
   ]
  },
  {
   "cell_type": "code",
   "execution_count": null,
   "id": "e26b5263-022e-4dc9-b8be-f3eab8727f04",
   "metadata": {},
   "outputs": [],
   "source": []
  },
  {
   "cell_type": "markdown",
   "id": "75ffd4cb-0851-4568-af3e-a92b6966ae44",
   "metadata": {},
   "source": [
    "### Top 2000 By Listeners"
   ]
  },
  {
   "cell_type": "code",
   "execution_count": 71,
   "id": "9d8212c5-14f6-4d2f-ab81-89dbddf75c04",
   "metadata": {},
   "outputs": [],
   "source": [
    "pd.options.mode.chained_assignment = None\n",
    "top2k = artist_tags[:2000]"
   ]
  },
  {
   "cell_type": "code",
   "execution_count": 72,
   "id": "b2a68f84-7ed6-42a2-b90a-bb1120d787aa",
   "metadata": {},
   "outputs": [
    {
     "data": {
      "text/html": [
       "<div>\n",
       "<style scoped>\n",
       "    .dataframe tbody tr th:only-of-type {\n",
       "        vertical-align: middle;\n",
       "    }\n",
       "\n",
       "    .dataframe tbody tr th {\n",
       "        vertical-align: top;\n",
       "    }\n",
       "\n",
       "    .dataframe thead th {\n",
       "        text-align: right;\n",
       "    }\n",
       "</style>\n",
       "<table border=\"1\" class=\"dataframe\">\n",
       "  <thead>\n",
       "    <tr style=\"text-align: right;\">\n",
       "      <th></th>\n",
       "      <th>artist_mb</th>\n",
       "      <th>tags_mb</th>\n",
       "      <th>tags_len</th>\n",
       "    </tr>\n",
       "  </thead>\n",
       "  <tbody>\n",
       "    <tr>\n",
       "      <th>0</th>\n",
       "      <td>Coldplay</td>\n",
       "      <td>[rock, pop, alternative rock, british, uk, bri...</td>\n",
       "      <td>17</td>\n",
       "    </tr>\n",
       "    <tr>\n",
       "      <th>1</th>\n",
       "      <td>Radiohead</td>\n",
       "      <td>[rock, electronic, alternative rock, british, ...</td>\n",
       "      <td>22</td>\n",
       "    </tr>\n",
       "    <tr>\n",
       "      <th>2</th>\n",
       "      <td>Red Hot Chili Peppers</td>\n",
       "      <td>[rock, alternative rock, 80s, 90s, rap, metal,...</td>\n",
       "      <td>20</td>\n",
       "    </tr>\n",
       "    <tr>\n",
       "      <th>3</th>\n",
       "      <td>Rihanna</td>\n",
       "      <td>[pop, dance, hip hop, reggae, contemporary r b...</td>\n",
       "      <td>20</td>\n",
       "    </tr>\n",
       "    <tr>\n",
       "      <th>4</th>\n",
       "      <td>Eminem</td>\n",
       "      <td>[turkish, rap, american, hip-hop, hip hop, hip...</td>\n",
       "      <td>19</td>\n",
       "    </tr>\n",
       "    <tr>\n",
       "      <th>...</th>\n",
       "      <td>...</td>\n",
       "      <td>...</td>\n",
       "      <td>...</td>\n",
       "    </tr>\n",
       "    <tr>\n",
       "      <th>2213</th>\n",
       "      <td>DJ Jazzy Jeff</td>\n",
       "      <td>[hip hop, hip hop rnb and dance hall, jazz hop]</td>\n",
       "      <td>3</td>\n",
       "    </tr>\n",
       "    <tr>\n",
       "      <th>2214</th>\n",
       "      <td>Big Star</td>\n",
       "      <td>[power pop, pop rock, folk pop, classic pop an...</td>\n",
       "      <td>5</td>\n",
       "    </tr>\n",
       "    <tr>\n",
       "      <th>2215</th>\n",
       "      <td>ABC</td>\n",
       "      <td>[synthpop, pop, new wave, dance-pop, new roman...</td>\n",
       "      <td>7</td>\n",
       "    </tr>\n",
       "    <tr>\n",
       "      <th>2216</th>\n",
       "      <td>Burl Ives</td>\n",
       "      <td>[american, classic pop and rock]</td>\n",
       "      <td>2</td>\n",
       "    </tr>\n",
       "    <tr>\n",
       "      <th>2217</th>\n",
       "      <td>Sofa Surfers</td>\n",
       "      <td>[electronic, dance]</td>\n",
       "      <td>2</td>\n",
       "    </tr>\n",
       "  </tbody>\n",
       "</table>\n",
       "<p>2000 rows × 3 columns</p>\n",
       "</div>"
      ],
      "text/plain": [
       "                  artist_mb  \\\n",
       "0                  Coldplay   \n",
       "1                 Radiohead   \n",
       "2     Red Hot Chili Peppers   \n",
       "3                   Rihanna   \n",
       "4                    Eminem   \n",
       "...                     ...   \n",
       "2213          DJ Jazzy Jeff   \n",
       "2214               Big Star   \n",
       "2215                    ABC   \n",
       "2216              Burl Ives   \n",
       "2217           Sofa Surfers   \n",
       "\n",
       "                                                tags_mb  tags_len  \n",
       "0     [rock, pop, alternative rock, british, uk, bri...        17  \n",
       "1     [rock, electronic, alternative rock, british, ...        22  \n",
       "2     [rock, alternative rock, 80s, 90s, rap, metal,...        20  \n",
       "3     [pop, dance, hip hop, reggae, contemporary r b...        20  \n",
       "4     [turkish, rap, american, hip-hop, hip hop, hip...        19  \n",
       "...                                                 ...       ...  \n",
       "2213    [hip hop, hip hop rnb and dance hall, jazz hop]         3  \n",
       "2214  [power pop, pop rock, folk pop, classic pop an...         5  \n",
       "2215  [synthpop, pop, new wave, dance-pop, new roman...         7  \n",
       "2216                   [american, classic pop and rock]         2  \n",
       "2217                                [electronic, dance]         2  \n",
       "\n",
       "[2000 rows x 3 columns]"
      ]
     },
     "execution_count": 72,
     "metadata": {},
     "output_type": "execute_result"
    }
   ],
   "source": [
    "top2k"
   ]
  },
  {
   "cell_type": "code",
   "execution_count": 73,
   "id": "c8c7135e-3556-4e0c-94e5-c7e68481cbcf",
   "metadata": {},
   "outputs": [],
   "source": [
    "top2k_tags_len = top2k\n",
    "top2k_tags_len['tags_len'] = top2k_tags_len['tags_mb'].apply(lambda x: len(x))"
   ]
  },
  {
   "cell_type": "code",
   "execution_count": 76,
   "id": "aab3b59f-0b33-4755-a239-521ed4f03a67",
   "metadata": {},
   "outputs": [],
   "source": [
    "top2k_artists = top2k_tags_len['tags_mb'].to_numpy()"
   ]
  },
  {
   "cell_type": "code",
   "execution_count": 77,
   "id": "a44fcde6-af18-4ea7-b24e-e7ae992ebe00",
   "metadata": {},
   "outputs": [],
   "source": [
    "indptr = [0]\n",
    "indices = []\n",
    "data = []\n",
    "vocabulary = {}\n",
    "for d in top2k_artists:\n",
    "    for term in d:\n",
    "        index = vocabulary.setdefault(term, len(vocabulary))\n",
    "        indices.append(index)\n",
    "        data.append(1)\n",
    "    indptr.append(len(indices))\n",
    "    \n",
    "\n",
    "tag_matrix = sparse.csr_matrix((data, indices, indptr), dtype=int)\n",
    "tmr = tag_matrix.toarray()"
   ]
  },
  {
   "cell_type": "code",
   "execution_count": 79,
   "id": "f56e7893-665d-401b-a2ad-0695e5cbdc6d",
   "metadata": {},
   "outputs": [
    {
     "data": {
      "text/plain": [
       "<2000x1973 sparse matrix of type '<class 'numpy.int32'>'\n",
       "\twith 14965 stored elements in Compressed Sparse Row format>"
      ]
     },
     "execution_count": 79,
     "metadata": {},
     "output_type": "execute_result"
    }
   ],
   "source": []
  },
  {
   "cell_type": "code",
   "execution_count": null,
   "id": "80204443-7315-44e2-9e86-73244c843eb0",
   "metadata": {},
   "outputs": [],
   "source": []
  }
 ],
 "metadata": {
  "kernelspec": {
   "display_name": "Python 3",
   "language": "python",
   "name": "python3"
  },
  "language_info": {
   "codemirror_mode": {
    "name": "ipython",
    "version": 3
   },
   "file_extension": ".py",
   "mimetype": "text/x-python",
   "name": "python",
   "nbconvert_exporter": "python",
   "pygments_lexer": "ipython3",
   "version": "3.8.8"
  }
 },
 "nbformat": 4,
 "nbformat_minor": 5
}
