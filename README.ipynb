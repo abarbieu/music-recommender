{
 "cells": [
  {
   "cell_type": "markdown",
   "id": "120c50f7-3f52-48b4-8bce-8c2e0a26dbd7",
   "metadata": {},
   "source": [
    "# CSC 466 Final Project - Music Recommender\n",
    "\n",
    "## Group Members\n",
    "1. Aidan Barbieux - abarbieu@calpoly.edu\n",
    "1. Matthew Jaojocco - mjaojoco@calpoly.edu\n",
    "1. Taylor Bedrosian - tbedrosi@calpoly.edu\n",
    "1. Zachary Krogman - zkrogman@calpoly.edu\n",
    "\n",
    "## Instructions \n",
    "\n",
    "### Clustering.ipynb\n",
    "    A jupyter notebook that when ran produces the dendrogram of the top 200 artists by listeners on last.fm, \n",
    "    clustered by user-generated tags.\n",
    "    \n",
    "### countryPredictor.py\n",
    "    python3 countryPredictor.py <k-value>\n",
    "    Given a k-value for KNN, calculates the accuracy of predicting a user's country by the artists they listen to on last.fm.\n",
    "\n",
    "### countryPredictor2.py\n",
    "    python3 countryPredictor2.py <k-value>\n",
    "    Same as above, but calculates the accuracy of predicting a user's location based on 9 regional buckets instead, and calculates\n",
    "    the confusion matrix and accuracy of the whole dataset based on the regional buckets, \n",
    "    as well as the precision and recall for each bucket.\n",
    "### music-recommender.ipynb\n",
    "    A jupyter notebook using python3. Contains the implementation of our music recommender using collaborative filtering.\n",
    "    "
   ]
  },
  {
   "cell_type": "markdown",
   "id": "6cf54298",
   "metadata": {},
   "source": []
  }
 ],
 "metadata": {
  "kernelspec": {
   "display_name": "Python 3",
   "language": "python",
   "name": "python3"
  },
  "language_info": {
   "codemirror_mode": {
    "name": "ipython",
    "version": 3
   },
   "file_extension": ".py",
   "mimetype": "text/x-python",
   "name": "python",
   "nbconvert_exporter": "python",
   "pygments_lexer": "ipython3",
   "version": "3.8.8"
  }
 },
 "nbformat": 4,
 "nbformat_minor": 5
}
