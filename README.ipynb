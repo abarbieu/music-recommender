{
 "cells": [
  {
   "cell_type": "markdown",
   "id": "120c50f7-3f52-48b4-8bce-8c2e0a26dbd7",
   "metadata": {},
   "source": [
    "# CSC 466 Final Project - Music Recommender\n",
    "\n",
    "## Group Members\n",
    "1. Aidan Barbieux - abarbieu@calpoly.edu\n",
    "1. Matthew Jaojocco - mjaojoco@calpoly.edu\n",
    "1. Taylor Bedrosian - tbedrosi@calpoly.edu\n",
    "1. Zachary Krogman - zkrogman@calpoly.edu\n",
    "\n",
    "## Instructions \n",
    "\n",
    "### pageRank.ipynb\n",
    "    contains code for pageRank.py in blocks for easy data manipulation and code needed to create graphics\n",
    "    \n",
    "### pageRank_analysis.ipynb\n",
    "    uses pageRank.py to analyse runtime and create more graphics\n",
    "\n",
    "### pageRank.py\n",
    "    Usage1 python3 pageRank.py <datafile.>[csv/txt] <dataformat>[SNAP/SMALL] <d>[0-1] <epsilon>[~0.00001]\n",
    "\n",
    "    positional arguments:\n",
    "    datafile                .csv or .txt file with data in SNAP or SMALL format given by lab spec\n",
    "    dataformat                \n",
    "    optional arguments:\n",
    "    --output OUTPUT     file name for output; default is out.csv\n",
    "    --k K               k value for KNN; default is 10\n",
    "    --m {okapi,cosine}  similarity metric to be used, default is okapi\n",
    "    "
   ]
  }
 ],
 "metadata": {
  "kernelspec": {
   "display_name": "Python 3",
   "language": "python",
   "name": "python3"
  },
  "language_info": {
   "codemirror_mode": {
    "name": "ipython",
    "version": 3
   },
   "file_extension": ".py",
   "mimetype": "text/x-python",
   "name": "python",
   "nbconvert_exporter": "python",
   "pygments_lexer": "ipython3",
   "version": "3.8.8"
  }
 },
 "nbformat": 4,
 "nbformat_minor": 5
}
