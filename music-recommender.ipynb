{
 "cells": [
  {
   "cell_type": "code",
   "execution_count": 5,
   "id": "0faa6428-0365-40c2-85b3-68ac71c5c10c",
   "metadata": {},
   "outputs": [],
   "source": [
    "import numpy as np\n",
    "import pandas as pd\n",
    "from scipy import sparse\n",
    "from matplotlib import pyplot as plt\n",
    "import seaborn\n",
    "%matplotlib inline"
   ]
  },
  {
   "cell_type": "markdown",
   "id": "2191f8d0-0eec-48fc-89df-b58d0ea5f86d",
   "metadata": {},
   "source": [
    "### Data reading"
   ]
  },
  {
   "cell_type": "code",
   "execution_count": 86,
   "id": "efd61e86-5673-4dbf-b7ed-3183e7bd4aa0",
   "metadata": {},
   "outputs": [],
   "source": [
    "scrobs = pd.read_csv(\"./data/lastfm_user_scrobbles.csv\")"
   ]
  },
  {
   "cell_type": "code",
   "execution_count": 87,
   "id": "02b74e23-527a-4949-983a-d98e1fdf4f2e",
   "metadata": {},
   "outputs": [
    {
     "data": {
      "text/html": [
       "<div>\n",
       "<style scoped>\n",
       "    .dataframe tbody tr th:only-of-type {\n",
       "        vertical-align: middle;\n",
       "    }\n",
       "\n",
       "    .dataframe tbody tr th {\n",
       "        vertical-align: top;\n",
       "    }\n",
       "\n",
       "    .dataframe thead th {\n",
       "        text-align: right;\n",
       "    }\n",
       "</style>\n",
       "<table border=\"1\" class=\"dataframe\">\n",
       "  <thead>\n",
       "    <tr style=\"text-align: right;\">\n",
       "      <th></th>\n",
       "      <th>user_id</th>\n",
       "      <th>artist_id</th>\n",
       "      <th>scrobbles</th>\n",
       "    </tr>\n",
       "  </thead>\n",
       "  <tbody>\n",
       "    <tr>\n",
       "      <th>0</th>\n",
       "      <td>1</td>\n",
       "      <td>4562</td>\n",
       "      <td>13883</td>\n",
       "    </tr>\n",
       "    <tr>\n",
       "      <th>1</th>\n",
       "      <td>1</td>\n",
       "      <td>10191</td>\n",
       "      <td>11690</td>\n",
       "    </tr>\n",
       "    <tr>\n",
       "      <th>2</th>\n",
       "      <td>1</td>\n",
       "      <td>494</td>\n",
       "      <td>11351</td>\n",
       "    </tr>\n",
       "    <tr>\n",
       "      <th>3</th>\n",
       "      <td>1</td>\n",
       "      <td>6673</td>\n",
       "      <td>10300</td>\n",
       "    </tr>\n",
       "    <tr>\n",
       "      <th>4</th>\n",
       "      <td>1</td>\n",
       "      <td>8402</td>\n",
       "      <td>8983</td>\n",
       "    </tr>\n",
       "    <tr>\n",
       "      <th>...</th>\n",
       "      <td>...</td>\n",
       "      <td>...</td>\n",
       "      <td>...</td>\n",
       "    </tr>\n",
       "    <tr>\n",
       "      <th>92787</th>\n",
       "      <td>1892</td>\n",
       "      <td>10098</td>\n",
       "      <td>278</td>\n",
       "    </tr>\n",
       "    <tr>\n",
       "      <th>92788</th>\n",
       "      <td>1892</td>\n",
       "      <td>8660</td>\n",
       "      <td>263</td>\n",
       "    </tr>\n",
       "    <tr>\n",
       "      <th>92789</th>\n",
       "      <td>1892</td>\n",
       "      <td>3274</td>\n",
       "      <td>258</td>\n",
       "    </tr>\n",
       "    <tr>\n",
       "      <th>92790</th>\n",
       "      <td>1892</td>\n",
       "      <td>4240</td>\n",
       "      <td>232</td>\n",
       "    </tr>\n",
       "    <tr>\n",
       "      <th>92791</th>\n",
       "      <td>1892</td>\n",
       "      <td>10842</td>\n",
       "      <td>228</td>\n",
       "    </tr>\n",
       "  </tbody>\n",
       "</table>\n",
       "<p>92792 rows × 3 columns</p>\n",
       "</div>"
      ],
      "text/plain": [
       "       user_id  artist_id  scrobbles\n",
       "0            1       4562      13883\n",
       "1            1      10191      11690\n",
       "2            1        494      11351\n",
       "3            1       6673      10300\n",
       "4            1       8402       8983\n",
       "...        ...        ...        ...\n",
       "92787     1892      10098        278\n",
       "92788     1892       8660        263\n",
       "92789     1892       3274        258\n",
       "92790     1892       4240        232\n",
       "92791     1892      10842        228\n",
       "\n",
       "[92792 rows x 3 columns]"
      ]
     },
     "execution_count": 87,
     "metadata": {},
     "output_type": "execute_result"
    }
   ],
   "source": [
    "scrobs"
   ]
  },
  {
   "cell_type": "markdown",
   "id": "16128485-af06-43ad-94eb-a519338428b3",
   "metadata": {},
   "source": [
    "### Make scipy csr sparse matrix from lil with users as rows and artist as column with # scrobbles as value"
   ]
  },
  {
   "cell_type": "code",
   "execution_count": 36,
   "id": "57430d54-a91d-4f7f-bbcf-d6980ef7a0c3",
   "metadata": {},
   "outputs": [],
   "source": [
    "scrobsLil = sparse.lil_matrix((max(scrobs[\"user_id\"])+1, max(scrobs[\"artist_id\"])+1)) # 0 indexing\n",
    "scrobsLil[scrobs[\"user_id\"], scrobs[\"artist_id\"]] = scrobs[\"scrobbles\"]\n",
    "scrobs = scrobsLil.tocsr()"
   ]
  },
  {
   "cell_type": "markdown",
   "id": "db490853-deb7-4753-ad14-b0c761d21e38",
   "metadata": {},
   "source": [
    "### Change #listens to ratings"
   ]
  },
  {
   "cell_type": "markdown",
   "id": "40d7be09-f2fb-411a-ae1e-1cd38c4b8dca",
   "metadata": {},
   "source": [
    "This is to make collaborative filtering work, rather than values like 100, 90, 80 for the top 3 artists of a user, these would be scores representing how they might rate those artists. \n",
    "\n",
    "1. Divide by max\n",
    "    * result: 1, .9, .8\n",
    "    * ranking of a user's artists\n",
    "    * \n",
    "2. Divide by sum\n",
    "    * result: 0.37, 0.33, 0.29\n",
    "    * proportion of total listens that artist occupies\n",
    "    * users with many artists have lower ratings\n",
    "    * ranking doesn't affect rating, so "
   ]
  },
  {
   "cell_type": "code",
   "execution_count": 84,
   "id": "6f297223-2725-45d9-94a4-5d82ed6566ce",
   "metadata": {},
   "outputs": [
    {
     "data": {
      "text/plain": [
       "array([0.09472016, 0.81761867, 0.18346179, ..., 0.22556762, 0.26406713,\n",
       "       0.65794669])"
      ]
     },
     "execution_count": 84,
     "metadata": {},
     "output_type": "execute_result"
    }
   ],
   "source": [
    "denom_max = np.repeat(scrobs.max(axis=1).A, scrobs.getnnz(axis=1))\n",
    "scrobs.data /= denom_max\n"
   ]
  },
  {
   "cell_type": "markdown",
   "id": "6be45af1-05af-4a30-9252-75954dfde76d",
   "metadata": {},
   "source": [
    "### "
   ]
  },
  {
   "cell_type": "code",
   "execution_count": 80,
   "id": "2b392cc2-6e7b-4347-8d8f-5e777f0295da",
   "metadata": {},
   "outputs": [
    {
     "data": {
      "text/plain": [
       "array([[0. , 1. , 0.1],\n",
       "       [1. , 0. , 0. ],\n",
       "       [1. , 0.1, 0. ]])"
      ]
     },
     "execution_count": 80,
     "metadata": {},
     "output_type": "execute_result"
    }
   ],
   "source": [
    "# edges=[[1,2],[3,4],[1,5],[5,3]]\n",
    "toy = np.array([[1,1,2,3,3], [2,3,1,1,2]])\n",
    "toydata = np.array([100,10,200,300,30])\n",
    "lil = sparse.lil_matrix((3,3))\n",
    "lil[toy[0,:]-1,toy[1,:]-1] = toydata\n",
    "csr = lil.tocsr()\n",
    "csr.getnnz(axis=1)\n",
    "csr.max(axis=1).A\n",
    "denom = np.repeat(csr.max(axis=1).A,csr.getnnz(axis=1))\n",
    "csr.data = csr.data/denom\n",
    "csr.A"
   ]
  }
 ],
 "metadata": {
  "kernelspec": {
   "display_name": "Python 3",
   "language": "python",
   "name": "python3"
  },
  "language_info": {
   "codemirror_mode": {
    "name": "ipython",
    "version": 3
   },
   "file_extension": ".py",
   "mimetype": "text/x-python",
   "name": "python",
   "nbconvert_exporter": "python",
   "pygments_lexer": "ipython3",
   "version": "3.8.8"
  }
 },
 "nbformat": 4,
 "nbformat_minor": 5
}
