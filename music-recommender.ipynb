{
 "cells": [
  {
   "cell_type": "code",
   "execution_count": 494,
   "id": "0faa6428-0365-40c2-85b3-68ac71c5c10c",
   "metadata": {},
   "outputs": [],
   "source": [
    "import numpy as np\n",
    "import pandas as pd\n",
    "from scipy import sparse\n",
    "from scipy import stats\n",
    "from matplotlib import pyplot as plt\n",
    "import seaborn as sns\n",
    "%matplotlib inline"
   ]
  },
  {
   "cell_type": "markdown",
   "id": "a35ae03e-3769-4cf9-b253-96bcabf6772b",
   "metadata": {},
   "source": [
    "### playground"
   ]
  },
  {
   "cell_type": "code",
   "execution_count": 516,
   "id": "f52c1bca-4b6d-437b-b5cb-4175ebe0e6e9",
   "metadata": {},
   "outputs": [
    {
     "data": {
      "text/plain": [
       "count     92792.000000\n",
       "mean        745.521521\n",
       "std        3752.146187\n",
       "min           1.000000\n",
       "25%         107.000000\n",
       "50%         260.000000\n",
       "75%         614.000000\n",
       "max      352698.000000\n",
       "Name: scrobbles, dtype: float64"
      ]
     },
     "execution_count": 516,
     "metadata": {},
     "output_type": "execute_result"
    }
   ],
   "source": [
    "df = pd.read_csv(\"./data/lastfm_user_scrobbles.csv\")\n",
    "df.scrobbles.describe()\n"
   ]
  },
  {
   "cell_type": "code",
   "execution_count": 525,
   "id": "a5fbf698-900c-40da-a004-7d0e54a3bbd1",
   "metadata": {},
   "outputs": [
    {
     "data": {
      "text/html": [
       "<div>\n",
       "<style scoped>\n",
       "    .dataframe tbody tr th:only-of-type {\n",
       "        vertical-align: middle;\n",
       "    }\n",
       "\n",
       "    .dataframe tbody tr th {\n",
       "        vertical-align: top;\n",
       "    }\n",
       "\n",
       "    .dataframe thead th {\n",
       "        text-align: right;\n",
       "    }\n",
       "</style>\n",
       "<table border=\"1\" class=\"dataframe\">\n",
       "  <thead>\n",
       "    <tr style=\"text-align: right;\">\n",
       "      <th></th>\n",
       "      <th>user_id</th>\n",
       "      <th>artist_id</th>\n",
       "      <th>scrobbles</th>\n",
       "      <th>rating</th>\n",
       "    </tr>\n",
       "  </thead>\n",
       "  <tbody>\n",
       "    <tr>\n",
       "      <th>6014</th>\n",
       "      <td>123</td>\n",
       "      <td>1431</td>\n",
       "      <td>2566</td>\n",
       "      <td>9.401157</td>\n",
       "    </tr>\n",
       "    <tr>\n",
       "      <th>6015</th>\n",
       "      <td>123</td>\n",
       "      <td>2189</td>\n",
       "      <td>2254</td>\n",
       "      <td>9.271515</td>\n",
       "    </tr>\n",
       "    <tr>\n",
       "      <th>6016</th>\n",
       "      <td>123</td>\n",
       "      <td>9033</td>\n",
       "      <td>1718</td>\n",
       "      <td>8.999970</td>\n",
       "    </tr>\n",
       "    <tr>\n",
       "      <th>6017</th>\n",
       "      <td>123</td>\n",
       "      <td>5545</td>\n",
       "      <td>1597</td>\n",
       "      <td>8.926936</td>\n",
       "    </tr>\n",
       "    <tr>\n",
       "      <th>6018</th>\n",
       "      <td>123</td>\n",
       "      <td>3426</td>\n",
       "      <td>1574</td>\n",
       "      <td>8.912429</td>\n",
       "    </tr>\n",
       "    <tr>\n",
       "      <th>6019</th>\n",
       "      <td>123</td>\n",
       "      <td>13258</td>\n",
       "      <td>1307</td>\n",
       "      <td>8.726543</td>\n",
       "    </tr>\n",
       "    <tr>\n",
       "      <th>6020</th>\n",
       "      <td>123</td>\n",
       "      <td>671</td>\n",
       "      <td>1140</td>\n",
       "      <td>8.589837</td>\n",
       "    </tr>\n",
       "    <tr>\n",
       "      <th>6021</th>\n",
       "      <td>123</td>\n",
       "      <td>10902</td>\n",
       "      <td>952</td>\n",
       "      <td>8.409619</td>\n",
       "    </tr>\n",
       "    <tr>\n",
       "      <th>6022</th>\n",
       "      <td>123</td>\n",
       "      <td>10236</td>\n",
       "      <td>831</td>\n",
       "      <td>8.273683</td>\n",
       "    </tr>\n",
       "    <tr>\n",
       "      <th>6023</th>\n",
       "      <td>123</td>\n",
       "      <td>9722</td>\n",
       "      <td>812</td>\n",
       "      <td>8.250554</td>\n",
       "    </tr>\n",
       "    <tr>\n",
       "      <th>6024</th>\n",
       "      <td>123</td>\n",
       "      <td>6961</td>\n",
       "      <td>774</td>\n",
       "      <td>8.202625</td>\n",
       "    </tr>\n",
       "    <tr>\n",
       "      <th>6025</th>\n",
       "      <td>123</td>\n",
       "      <td>6612</td>\n",
       "      <td>748</td>\n",
       "      <td>8.168457</td>\n",
       "    </tr>\n",
       "    <tr>\n",
       "      <th>6026</th>\n",
       "      <td>123</td>\n",
       "      <td>3429</td>\n",
       "      <td>721</td>\n",
       "      <td>8.131693</td>\n",
       "    </tr>\n",
       "    <tr>\n",
       "      <th>6027</th>\n",
       "      <td>123</td>\n",
       "      <td>3916</td>\n",
       "      <td>721</td>\n",
       "      <td>8.131693</td>\n",
       "    </tr>\n",
       "    <tr>\n",
       "      <th>6028</th>\n",
       "      <td>123</td>\n",
       "      <td>2522</td>\n",
       "      <td>690</td>\n",
       "      <td>8.087745</td>\n",
       "    </tr>\n",
       "    <tr>\n",
       "      <th>6029</th>\n",
       "      <td>123</td>\n",
       "      <td>13132</td>\n",
       "      <td>689</td>\n",
       "      <td>8.086295</td>\n",
       "    </tr>\n",
       "    <tr>\n",
       "      <th>6030</th>\n",
       "      <td>123</td>\n",
       "      <td>1531</td>\n",
       "      <td>638</td>\n",
       "      <td>8.009392</td>\n",
       "    </tr>\n",
       "    <tr>\n",
       "      <th>6031</th>\n",
       "      <td>123</td>\n",
       "      <td>11211</td>\n",
       "      <td>626</td>\n",
       "      <td>7.990404</td>\n",
       "    </tr>\n",
       "    <tr>\n",
       "      <th>6032</th>\n",
       "      <td>123</td>\n",
       "      <td>8229</td>\n",
       "      <td>595</td>\n",
       "      <td>7.939615</td>\n",
       "    </tr>\n",
       "    <tr>\n",
       "      <th>6033</th>\n",
       "      <td>123</td>\n",
       "      <td>402</td>\n",
       "      <td>588</td>\n",
       "      <td>7.927780</td>\n",
       "    </tr>\n",
       "    <tr>\n",
       "      <th>6034</th>\n",
       "      <td>123</td>\n",
       "      <td>4493</td>\n",
       "      <td>560</td>\n",
       "      <td>7.878990</td>\n",
       "    </tr>\n",
       "    <tr>\n",
       "      <th>6035</th>\n",
       "      <td>123</td>\n",
       "      <td>6240</td>\n",
       "      <td>533</td>\n",
       "      <td>7.829575</td>\n",
       "    </tr>\n",
       "    <tr>\n",
       "      <th>6036</th>\n",
       "      <td>123</td>\n",
       "      <td>13234</td>\n",
       "      <td>526</td>\n",
       "      <td>7.816355</td>\n",
       "    </tr>\n",
       "    <tr>\n",
       "      <th>6037</th>\n",
       "      <td>123</td>\n",
       "      <td>753</td>\n",
       "      <td>512</td>\n",
       "      <td>7.789378</td>\n",
       "    </tr>\n",
       "    <tr>\n",
       "      <th>6038</th>\n",
       "      <td>123</td>\n",
       "      <td>5212</td>\n",
       "      <td>510</td>\n",
       "      <td>7.785464</td>\n",
       "    </tr>\n",
       "    <tr>\n",
       "      <th>6039</th>\n",
       "      <td>123</td>\n",
       "      <td>4417</td>\n",
       "      <td>466</td>\n",
       "      <td>7.695239</td>\n",
       "    </tr>\n",
       "    <tr>\n",
       "      <th>6040</th>\n",
       "      <td>123</td>\n",
       "      <td>4717</td>\n",
       "      <td>466</td>\n",
       "      <td>7.695239</td>\n",
       "    </tr>\n",
       "    <tr>\n",
       "      <th>6041</th>\n",
       "      <td>123</td>\n",
       "      <td>1999</td>\n",
       "      <td>460</td>\n",
       "      <td>7.682280</td>\n",
       "    </tr>\n",
       "    <tr>\n",
       "      <th>6042</th>\n",
       "      <td>123</td>\n",
       "      <td>10735</td>\n",
       "      <td>459</td>\n",
       "      <td>7.680104</td>\n",
       "    </tr>\n",
       "    <tr>\n",
       "      <th>6043</th>\n",
       "      <td>123</td>\n",
       "      <td>13259</td>\n",
       "      <td>445</td>\n",
       "      <td>7.649128</td>\n",
       "    </tr>\n",
       "    <tr>\n",
       "      <th>6044</th>\n",
       "      <td>123</td>\n",
       "      <td>6374</td>\n",
       "      <td>442</td>\n",
       "      <td>7.642363</td>\n",
       "    </tr>\n",
       "    <tr>\n",
       "      <th>6045</th>\n",
       "      <td>123</td>\n",
       "      <td>14340</td>\n",
       "      <td>429</td>\n",
       "      <td>7.612510</td>\n",
       "    </tr>\n",
       "    <tr>\n",
       "      <th>6046</th>\n",
       "      <td>123</td>\n",
       "      <td>14489</td>\n",
       "      <td>424</td>\n",
       "      <td>7.600787</td>\n",
       "    </tr>\n",
       "    <tr>\n",
       "      <th>6047</th>\n",
       "      <td>123</td>\n",
       "      <td>9470</td>\n",
       "      <td>419</td>\n",
       "      <td>7.588924</td>\n",
       "    </tr>\n",
       "    <tr>\n",
       "      <th>6048</th>\n",
       "      <td>123</td>\n",
       "      <td>1516</td>\n",
       "      <td>413</td>\n",
       "      <td>7.574501</td>\n",
       "    </tr>\n",
       "    <tr>\n",
       "      <th>6049</th>\n",
       "      <td>123</td>\n",
       "      <td>15793</td>\n",
       "      <td>413</td>\n",
       "      <td>7.574501</td>\n",
       "    </tr>\n",
       "    <tr>\n",
       "      <th>6050</th>\n",
       "      <td>123</td>\n",
       "      <td>15299</td>\n",
       "      <td>411</td>\n",
       "      <td>7.569647</td>\n",
       "    </tr>\n",
       "    <tr>\n",
       "      <th>6051</th>\n",
       "      <td>123</td>\n",
       "      <td>8460</td>\n",
       "      <td>409</td>\n",
       "      <td>7.564769</td>\n",
       "    </tr>\n",
       "    <tr>\n",
       "      <th>6052</th>\n",
       "      <td>123</td>\n",
       "      <td>11228</td>\n",
       "      <td>406</td>\n",
       "      <td>7.557407</td>\n",
       "    </tr>\n",
       "    <tr>\n",
       "      <th>6053</th>\n",
       "      <td>123</td>\n",
       "      <td>3423</td>\n",
       "      <td>404</td>\n",
       "      <td>7.552468</td>\n",
       "    </tr>\n",
       "    <tr>\n",
       "      <th>6054</th>\n",
       "      <td>123</td>\n",
       "      <td>3901</td>\n",
       "      <td>403</td>\n",
       "      <td>7.549990</td>\n",
       "    </tr>\n",
       "    <tr>\n",
       "      <th>6055</th>\n",
       "      <td>123</td>\n",
       "      <td>3461</td>\n",
       "      <td>398</td>\n",
       "      <td>7.537506</td>\n",
       "    </tr>\n",
       "    <tr>\n",
       "      <th>6056</th>\n",
       "      <td>123</td>\n",
       "      <td>11220</td>\n",
       "      <td>398</td>\n",
       "      <td>7.537506</td>\n",
       "    </tr>\n",
       "    <tr>\n",
       "      <th>6057</th>\n",
       "      <td>123</td>\n",
       "      <td>10271</td>\n",
       "      <td>386</td>\n",
       "      <td>7.506891</td>\n",
       "    </tr>\n",
       "    <tr>\n",
       "      <th>6058</th>\n",
       "      <td>123</td>\n",
       "      <td>1918</td>\n",
       "      <td>383</td>\n",
       "      <td>7.499089</td>\n",
       "    </tr>\n",
       "    <tr>\n",
       "      <th>6059</th>\n",
       "      <td>123</td>\n",
       "      <td>14626</td>\n",
       "      <td>382</td>\n",
       "      <td>7.496474</td>\n",
       "    </tr>\n",
       "    <tr>\n",
       "      <th>6060</th>\n",
       "      <td>123</td>\n",
       "      <td>5826</td>\n",
       "      <td>381</td>\n",
       "      <td>7.493853</td>\n",
       "    </tr>\n",
       "    <tr>\n",
       "      <th>6061</th>\n",
       "      <td>123</td>\n",
       "      <td>13299</td>\n",
       "      <td>381</td>\n",
       "      <td>7.493853</td>\n",
       "    </tr>\n",
       "    <tr>\n",
       "      <th>6062</th>\n",
       "      <td>123</td>\n",
       "      <td>9602</td>\n",
       "      <td>378</td>\n",
       "      <td>7.485948</td>\n",
       "    </tr>\n",
       "    <tr>\n",
       "      <th>6063</th>\n",
       "      <td>123</td>\n",
       "      <td>108</td>\n",
       "      <td>370</td>\n",
       "      <td>7.464557</td>\n",
       "    </tr>\n",
       "  </tbody>\n",
       "</table>\n",
       "</div>"
      ],
      "text/plain": [
       "      user_id  artist_id  scrobbles    rating\n",
       "6014      123       1431       2566  9.401157\n",
       "6015      123       2189       2254  9.271515\n",
       "6016      123       9033       1718  8.999970\n",
       "6017      123       5545       1597  8.926936\n",
       "6018      123       3426       1574  8.912429\n",
       "6019      123      13258       1307  8.726543\n",
       "6020      123        671       1140  8.589837\n",
       "6021      123      10902        952  8.409619\n",
       "6022      123      10236        831  8.273683\n",
       "6023      123       9722        812  8.250554\n",
       "6024      123       6961        774  8.202625\n",
       "6025      123       6612        748  8.168457\n",
       "6026      123       3429        721  8.131693\n",
       "6027      123       3916        721  8.131693\n",
       "6028      123       2522        690  8.087745\n",
       "6029      123      13132        689  8.086295\n",
       "6030      123       1531        638  8.009392\n",
       "6031      123      11211        626  7.990404\n",
       "6032      123       8229        595  7.939615\n",
       "6033      123        402        588  7.927780\n",
       "6034      123       4493        560  7.878990\n",
       "6035      123       6240        533  7.829575\n",
       "6036      123      13234        526  7.816355\n",
       "6037      123        753        512  7.789378\n",
       "6038      123       5212        510  7.785464\n",
       "6039      123       4417        466  7.695239\n",
       "6040      123       4717        466  7.695239\n",
       "6041      123       1999        460  7.682280\n",
       "6042      123      10735        459  7.680104\n",
       "6043      123      13259        445  7.649128\n",
       "6044      123       6374        442  7.642363\n",
       "6045      123      14340        429  7.612510\n",
       "6046      123      14489        424  7.600787\n",
       "6047      123       9470        419  7.588924\n",
       "6048      123       1516        413  7.574501\n",
       "6049      123      15793        413  7.574501\n",
       "6050      123      15299        411  7.569647\n",
       "6051      123       8460        409  7.564769\n",
       "6052      123      11228        406  7.557407\n",
       "6053      123       3423        404  7.552468\n",
       "6054      123       3901        403  7.549990\n",
       "6055      123       3461        398  7.537506\n",
       "6056      123      11220        398  7.537506\n",
       "6057      123      10271        386  7.506891\n",
       "6058      123       1918        383  7.499089\n",
       "6059      123      14626        382  7.496474\n",
       "6060      123       5826        381  7.493853\n",
       "6061      123      13299        381  7.493853\n",
       "6062      123       9602        378  7.485948\n",
       "6063      123        108        370  7.464557"
      ]
     },
     "execution_count": 525,
     "metadata": {},
     "output_type": "execute_result"
    }
   ],
   "source": [
    "scrobsdf = pd.read_csv(\"./data/lastfm_user_scrobbles.csv\")\n",
    "df=scrobsdf\n",
    "df[\"rating\"] = df.scrobbles / df.groupby(\"user_id\").scrobbles.transform('sum').to_numpy()\n",
    "df.rating = np.log(df.rating) + 12\n",
    "df[df[\"user_id\"] == 123]"
   ]
  },
  {
   "cell_type": "code",
   "execution_count": 495,
   "id": "3543eda8-9ff6-476d-b0bc-9fdbfa5d1153",
   "metadata": {},
   "outputs": [],
   "source": [
    "scrobsdf = pd.read_csv(\"./data/lastfm_user_scrobbles.csv\")\n",
    "scrobs = sparse.lil_matrix((max(scrobsdf[\"user_id\"])+1, max(scrobsdf[\"artist_id\"])+1)) # 0 indexing\n",
    "scrobs[scrobsdf[\"user_id\"], scrobsdf[\"artist_id\"]] = scrobsdf[\"scrobbles\"]\n",
    "scrobs = scrobs.tocsr()\n",
    "# scrobs.sum(axis=1)"
   ]
  },
  {
   "cell_type": "code",
   "execution_count": 519,
   "id": "cef13e47-5bdd-442e-b088-dc3980823188",
   "metadata": {},
   "outputs": [
    {
     "name": "stdout",
     "output_type": "stream",
     "text": [
      "                  0\n",
      "count  92723.000000\n",
      "mean       9.612274\n",
      "std        1.375519\n",
      "min        0.211468\n",
      "25%        8.860118\n",
      "50%        9.808049\n",
      "75%       10.561727\n",
      "max       12.000000\n"
     ]
    },
    {
     "data": {
      "text/plain": [
       "<seaborn.axisgrid.FacetGrid at 0x23650dd6820>"
      ]
     },
     "execution_count": 519,
     "metadata": {},
     "output_type": "execute_result"
    },
    {
     "data": {
      "image/png": "[encoded data removed]",
      "text/plain": [
       "<Figure size 360x360 with 1 Axes>"
      ]
     },
     "metadata": {
      "needs_background": "light"
     },
     "output_type": "display_data"
    }
   ],
   "source": [
    "scrobsdf = pd.read_csv(\"./data/lastfm_user_scrobbles.csv\")\n",
    "scrobs = sparse.lil_matrix((max(scrobsdf[\"user_id\"])+1, max(scrobsdf[\"artist_id\"])+1)) # 0 indexing\n",
    "scrobs[scrobsdf[\"user_id\"], scrobsdf[\"artist_id\"]] = scrobsdf[\"scrobbles\"]\n",
    "scrobs = scrobs.tocsr()\n",
    "\n",
    "def unskew(scrobs):\n",
    "#     denom_max = np.repeat(scrobs.sum(axis=1).A, scrobs.getnnz(axis=1))\n",
    "#     return scrobs.data/denom_max\n",
    "    \n",
    "    denom_max = np.repeat(scrobs.max(axis=1).A, scrobs.getnnz(axis=1))\n",
    "    denom_min = np.repeat(scrobs.min(axis=1).A, scrobs.getnnz(axis=1))\n",
    "    return (scrobs.data - denom_min)/(denom_max - denom_min)\n",
    "\n",
    "scrobs.data = unskew(scrobs)\n",
    "scrobs.data=np.log(scrobs.data) + 12\n",
    "print(pd.DataFrame(scrobs.data).describe())\n",
    "sns.displot((scrobs.data))"
   ]
  },
  {
   "cell_type": "code",
   "execution_count": 502,
   "id": "aaefb03f-beb7-427c-ac2b-9e37fe5a2699",
   "metadata": {},
   "outputs": [
    {
     "data": {
      "text/plain": [
       "array([[0., 0., 0., ..., 0., 0., 0.],\n",
       "       [0., 0., 0., ..., 0., 0., 0.],\n",
       "       [0., 0., 0., ..., 0., 0., 0.],\n",
       "       ...,\n",
       "       [0., 0., 0., ..., 0., 0., 0.],\n",
       "       [0., 0., 0., ..., 0., 0., 0.],\n",
       "       [0., 0., 0., ..., 0., 0., 0.]])"
      ]
     },
     "execution_count": 502,
     "metadata": {},
     "output_type": "execute_result"
    }
   ],
   "source": [
    "scrobs.A"
   ]
  },
  {
   "cell_type": "code",
   "execution_count": 501,
   "id": "85c002e7-ed49-4133-82da-aaefb5e0baca",
   "metadata": {},
   "outputs": [
    {
     "data": {
      "image/png": "[encoded data removed]",
      "text/plain": [
       "<Figure size 360x360 with 1 Axes>"
      ]
     },
     "metadata": {
      "needs_background": "light"
     },
     "output_type": "display_data"
    },
    {
     "data": {
      "image/png": "[encoded data removed]",
      "text/plain": [
       "<Figure size 360x360 with 1 Axes>"
      ]
     },
     "metadata": {
      "needs_background": "light"
     },
     "output_type": "display_data"
    },
    {
     "data": {
      "image/png": "[encoded data removed]",
      "text/plain": [
       "<Figure size 360x360 with 1 Axes>"
      ]
     },
     "metadata": {
      "needs_background": "light"
     },
     "output_type": "display_data"
    },
    {
     "data": {
      "image/png": "[encoded data removed]",
      "text/plain": [
       "<Figure size 360x360 with 1 Axes>"
      ]
     },
     "metadata": {
      "needs_background": "light"
     },
     "output_type": "display_data"
    },
    {
     "data": {
      "image/png": "[encoded data removed]",
      "text/plain": [
       "<Figure size 360x360 with 1 Axes>"
      ]
     },
     "metadata": {
      "needs_background": "light"
     },
     "output_type": "display_data"
    },
    {
     "data": {
      "image/png": "[encoded data removed]",
      "text/plain": [
       "<Figure size 360x360 with 1 Axes>"
      ]
     },
     "metadata": {
      "needs_background": "light"
     },
     "output_type": "display_data"
    },
    {
     "data": {
      "image/png": "[encoded data removed]",
      "text/plain": [
       "<Figure size 360x360 with 1 Axes>"
      ]
     },
     "metadata": {
      "needs_background": "light"
     },
     "output_type": "display_data"
    },
    {
     "data": {
      "image/png": "[encoded data removed]",
      "text/plain": [
       "<Figure size 360x360 with 1 Axes>"
      ]
     },
     "metadata": {
      "needs_background": "light"
     },
     "output_type": "display_data"
    },
    {
     "data": {
      "image/png": "[encoded data removed]",
      "text/plain": [
       "<Figure size 360x360 with 1 Axes>"
      ]
     },
     "metadata": {
      "needs_background": "light"
     },
     "output_type": "display_data"
    },
    {
     "data": {
      "image/png": "[encoded data removed]",
      "text/plain": [
       "<Figure size 360x360 with 1 Axes>"
      ]
     },
     "metadata": {
      "needs_background": "light"
     },
     "output_type": "display_data"
    }
   ],
   "source": [
    "for i in range(10):\n",
    "    sns.displot(scrobs[i].data)"
   ]
  },
  {
   "cell_type": "markdown",
   "id": "2191f8d0-0eec-48fc-89df-b58d0ea5f86d",
   "metadata": {},
   "source": [
    "### Data reading"
   ]
  },
  {
   "cell_type": "code",
   "execution_count": 404,
   "id": "efd61e86-5673-4dbf-b7ed-3183e7bd4aa0",
   "metadata": {},
   "outputs": [],
   "source": [
    "scrobsdf = pd.read_csv(\"./data/lastfm_user_scrobbles.csv\")"
   ]
  },
  {
   "cell_type": "code",
   "execution_count": 387,
   "id": "eba3fa06-55e1-45e0-b1ef-6cb4168cbbf9",
   "metadata": {},
   "outputs": [
    {
     "data": {
      "text/plain": [
       "count     92792.000000\n",
       "mean        745.521521\n",
       "std        3752.146187\n",
       "min           1.000000\n",
       "25%         107.000000\n",
       "50%         260.000000\n",
       "75%         614.000000\n",
       "max      352698.000000\n",
       "Name: scrobbles, dtype: float64"
      ]
     },
     "execution_count": 387,
     "metadata": {},
     "output_type": "execute_result"
    }
   ],
   "source": [
    "df = scrobsdf\n",
    "df.scrobbles.describe()"
   ]
  },
  {
   "cell_type": "code",
   "execution_count": 388,
   "id": "48600d60-2a07-4273-89e5-0c7cf6ae8341",
   "metadata": {},
   "outputs": [],
   "source": [
    "def normalize(column):\n",
    "    upper = column.max()\n",
    "    lower = column.min()\n",
    "    y = (column - lower)/(upper-lower)\n",
    "    return y"
   ]
  },
  {
   "cell_type": "code",
   "execution_count": 389,
   "id": "8e13a307-09cb-4c87-a251-1b79b0546cef",
   "metadata": {},
   "outputs": [],
   "source": [
    "gmax = df.groupby(\"user_id\").scrobbles.transform('max')\n",
    "gmin = df.groupby(\"user_id\").scrobbles.transform('min')\n",
    "df.scrobbles = (df.scrobbles - gmin)/(gmax-gmin)"
   ]
  },
  {
   "cell_type": "code",
   "execution_count": 390,
   "id": "d402fd5e-0b9d-4621-9d1a-4fc0f8935229",
   "metadata": {},
   "outputs": [
    {
     "name": "stdout",
     "output_type": "stream",
     "text": [
      "count    92761.000000\n",
      "mean         0.122915\n",
      "std          0.201110\n",
      "min          0.000000\n",
      "25%          0.010638\n",
      "50%          0.042693\n",
      "75%          0.136679\n",
      "max          1.000000\n",
      "Name: scrobbles, dtype: float64\n"
     ]
    },
    {
     "data": {
      "text/plain": [
       "<seaborn.axisgrid.FacetGrid at 0x236080182e0>"
      ]
     },
     "execution_count": 390,
     "metadata": {},
     "output_type": "execute_result"
    },
    {
     "data": {
      "image/png": "[encoded data removed]",
      "text/plain": [
       "<Figure size 360x360 with 1 Axes>"
      ]
     },
     "metadata": {
      "needs_background": "light"
     },
     "output_type": "display_data"
    }
   ],
   "source": [
    "normlog = df.scrobbles#normalize(np.log(df.scrobbles))\n",
    "print(normlog.describe())\n",
    "sns.displot(normlog)"
   ]
  },
  {
   "cell_type": "code",
   "execution_count": 391,
   "id": "9865df10-8e2e-457c-b92c-537d469488c7",
   "metadata": {},
   "outputs": [],
   "source": [
    "artdf = pd.read_csv(\"./data/lastfm_artist_list.csv\")\n",
    "artdf = artdf.set_index(\"artist_id\")"
   ]
  },
  {
   "cell_type": "code",
   "execution_count": 392,
   "id": "50f3ec1e-d962-4b9f-8c12-f6e51017487c",
   "metadata": {},
   "outputs": [
    {
     "data": {
      "text/html": [
       "<div>\n",
       "<style scoped>\n",
       "    .dataframe tbody tr th:only-of-type {\n",
       "        vertical-align: middle;\n",
       "    }\n",
       "\n",
       "    .dataframe tbody tr th {\n",
       "        vertical-align: top;\n",
       "    }\n",
       "\n",
       "    .dataframe thead th {\n",
       "        text-align: right;\n",
       "    }\n",
       "</style>\n",
       "<table border=\"1\" class=\"dataframe\">\n",
       "  <thead>\n",
       "    <tr style=\"text-align: right;\">\n",
       "      <th></th>\n",
       "      <th>artist_name</th>\n",
       "    </tr>\n",
       "    <tr>\n",
       "      <th>artist_id</th>\n",
       "      <th></th>\n",
       "    </tr>\n",
       "  </thead>\n",
       "  <tbody>\n",
       "  </tbody>\n",
       "</table>\n",
       "</div>"
      ],
      "text/plain": [
       "Empty DataFrame\n",
       "Columns: [artist_name]\n",
       "Index: []"
      ]
     },
     "execution_count": 392,
     "metadata": {},
     "output_type": "execute_result"
    }
   ],
   "source": [
    "artdf[artdf[\"artist_name\"].str.contains(\"ollier\")]"
   ]
  },
  {
   "cell_type": "markdown",
   "id": "16128485-af06-43ad-94eb-a519338428b3",
   "metadata": {},
   "source": [
    "### Make scipy csr sparse matrix from lil with users as rows and artist as column with # scrobbles as value"
   ]
  },
  {
   "cell_type": "code",
   "execution_count": 393,
   "id": "57430d54-a91d-4f7f-bbcf-d6980ef7a0c3",
   "metadata": {
    "tags": []
   },
   "outputs": [],
   "source": [
    "scrobs = sparse.lil_matrix((max(scrobsdf[\"user_id\"])+1, max(scrobsdf[\"artist_id\"])+1)) # 0 indexing\n",
    "scrobs[scrobsdf[\"user_id\"], scrobsdf[\"artist_id\"]] = scrobsdf[\"scrobbles\"]\n",
    "scrobs = scrobs.tocsr()"
   ]
  },
  {
   "cell_type": "markdown",
   "id": "db490853-deb7-4753-ad14-b0c761d21e38",
   "metadata": {},
   "source": [
    "### Change #listens to ratings"
   ]
  },
  {
   "cell_type": "markdown",
   "id": "40d7be09-f2fb-411a-ae1e-1cd38c4b8dca",
   "metadata": {
    "tags": []
   },
   "source": [
    "This is to make collaborative filtering work, rather than values like 100, 90, 80 for the top 3 artists of a user, these would be scores representing how they might rate those artists. \n",
    "\n",
    "1. Divide by max\n",
    "    * result: 1, .9, .8\n",
    "    * ranking of a user's artists\n",
    "    * \n",
    "2. Divide by sum\n",
    "    * result: 0.37, 0.33, 0.29\n",
    "    * proportion of total listens that artist occupies\n",
    "    * users with many artists have lower ratings\n",
    "    * ranking doesn't affect rating, so "
   ]
  },
  {
   "cell_type": "code",
   "execution_count": 403,
   "id": "187c0460-5910-41a2-ad26-1ef24924bd7c",
   "metadata": {},
   "outputs": [
    {
     "data": {
      "text/html": [
       "<div>\n",
       "<style scoped>\n",
       "    .dataframe tbody tr th:only-of-type {\n",
       "        vertical-align: middle;\n",
       "    }\n",
       "\n",
       "    .dataframe tbody tr th {\n",
       "        vertical-align: top;\n",
       "    }\n",
       "\n",
       "    .dataframe thead th {\n",
       "        text-align: right;\n",
       "    }\n",
       "</style>\n",
       "<table border=\"1\" class=\"dataframe\">\n",
       "  <thead>\n",
       "    <tr style=\"text-align: right;\">\n",
       "      <th></th>\n",
       "      <th>0</th>\n",
       "    </tr>\n",
       "  </thead>\n",
       "  <tbody>\n",
       "    <tr>\n",
       "      <th>count</th>\n",
       "      <td>89346.000000</td>\n",
       "    </tr>\n",
       "    <tr>\n",
       "      <th>mean</th>\n",
       "      <td>0.563846</td>\n",
       "    </tr>\n",
       "    <tr>\n",
       "      <th>std</th>\n",
       "      <td>0.101700</td>\n",
       "    </tr>\n",
       "    <tr>\n",
       "      <th>min</th>\n",
       "      <td>0.500002</td>\n",
       "    </tr>\n",
       "    <tr>\n",
       "      <th>25%</th>\n",
       "      <td>0.506468</td>\n",
       "    </tr>\n",
       "    <tr>\n",
       "      <th>50%</th>\n",
       "      <td>0.523271</td>\n",
       "    </tr>\n",
       "    <tr>\n",
       "      <th>75%</th>\n",
       "      <td>0.571429</td>\n",
       "    </tr>\n",
       "    <tr>\n",
       "      <th>max</th>\n",
       "      <td>1.000000</td>\n",
       "    </tr>\n",
       "  </tbody>\n",
       "</table>\n",
       "</div>"
      ],
      "text/plain": [
       "                  0\n",
       "count  89346.000000\n",
       "mean       0.563846\n",
       "std        0.101700\n",
       "min        0.500002\n",
       "25%        0.506468\n",
       "50%        0.523271\n",
       "75%        0.571429\n",
       "max        1.000000"
      ]
     },
     "execution_count": 403,
     "metadata": {},
     "output_type": "execute_result"
    }
   ],
   "source": [
    "pd.DataFrame(unskew(scrobs)).describe()"
   ]
  },
  {
   "cell_type": "code",
   "execution_count": 399,
   "id": "971596c6-6612-46ed-8bda-5d9a5bf7d1f8",
   "metadata": {},
   "outputs": [
    {
     "data": {
      "text/plain": [
       "<seaborn.axisgrid.FacetGrid at 0x2360a56aa60>"
      ]
     },
     "execution_count": 399,
     "metadata": {},
     "output_type": "execute_result"
    },
    {
     "data": {
      "image/png": "[encoded data removed]",
      "text/plain": [
       "<Figure size 360x360 with 1 Axes>"
      ]
     },
     "metadata": {
      "needs_background": "light"
     },
     "output_type": "display_data"
    }
   ],
   "source": [
    "sns.displot(np.log(scrobs.data))"
   ]
  },
  {
   "cell_type": "code",
   "execution_count": 356,
   "id": "f26a8a69-01ef-4b96-9b08-9fd2314e2c97",
   "metadata": {},
   "outputs": [
    {
     "data": {
      "image/png": "[encoded data removed]",
      "text/plain": [
       "<Figure size 360x360 with 1 Axes>"
      ]
     },
     "metadata": {
      "needs_background": "light"
     },
     "output_type": "display_data"
    },
    {
     "data": {
      "image/png": "[encoded data removed]",
      "text/plain": [
       "<Figure size 360x360 with 1 Axes>"
      ]
     },
     "metadata": {
      "needs_background": "light"
     },
     "output_type": "display_data"
    },
    {
     "data": {
      "image/png": "[encoded data removed]",
      "text/plain": [
       "<Figure size 360x360 with 1 Axes>"
      ]
     },
     "metadata": {
      "needs_background": "light"
     },
     "output_type": "display_data"
    },
    {
     "data": {
      "image/png": "[encoded data removed]",
      "text/plain": [
       "<Figure size 360x360 with 1 Axes>"
      ]
     },
     "metadata": {
      "needs_background": "light"
     },
     "output_type": "display_data"
    },
    {
     "data": {
      "image/png": "[encoded data removed]",
      "text/plain": [
       "<Figure size 360x360 with 1 Axes>"
      ]
     },
     "metadata": {
      "needs_background": "light"
     },
     "output_type": "display_data"
    },
    {
     "data": {
      "image/png": "[encoded data removed]",
      "text/plain": [
       "<Figure size 360x360 with 1 Axes>"
      ]
     },
     "metadata": {
      "needs_background": "light"
     },
     "output_type": "display_data"
    },
    {
     "data": {
      "image/png": "[encoded data removed]",
      "text/plain": [
       "<Figure size 360x360 with 1 Axes>"
      ]
     },
     "metadata": {
      "needs_background": "light"
     },
     "output_type": "display_data"
    },
    {
     "data": {
      "image/png": "[encoded data removed]",
      "text/plain": [
       "<Figure size 360x360 with 1 Axes>"
      ]
     },
     "metadata": {
      "needs_background": "light"
     },
     "output_type": "display_data"
    },
    {
     "data": {
      "image/png": "[encoded data removed]",
      "text/plain": [
       "<Figure size 360x360 with 1 Axes>"
      ]
     },
     "metadata": {
      "needs_background": "light"
     },
     "output_type": "display_data"
    },
    {
     "data": {
      "image/png": "[encoded data removed]",
      "text/plain": [
       "<Figure size 360x360 with 1 Axes>"
      ]
     },
     "metadata": {
      "needs_background": "light"
     },
     "output_type": "display_data"
    }
   ],
   "source": [
    "for i in range(10):\n",
    "    sns.displot(scrobs[i].data)"
   ]
  },
  {
   "cell_type": "markdown",
   "id": "4d93246f-4446-4a39-a1e1-47a1d38bd21b",
   "metadata": {},
   "source": [
    "### ----PLAYGROUND----"
   ]
  },
  {
   "cell_type": "code",
   "execution_count": 76,
   "id": "8446c1fe-5566-4815-b8be-76e4630105f1",
   "metadata": {},
   "outputs": [
    {
     "data": {
      "text/plain": [
       "artist_name    Britney Spears\n",
       "Name: 2381, dtype: object"
      ]
     },
     "execution_count": 76,
     "metadata": {},
     "output_type": "execute_result"
    }
   ],
   "source": [
    "artdf.loc[stats.mode(scrobs.argmax(axis=1).A.T[0]).mode[0]]"
   ]
  },
  {
   "cell_type": "code",
   "execution_count": 88,
   "id": "2b392cc2-6e7b-4347-8d8f-5e777f0295da",
   "metadata": {},
   "outputs": [
    {
     "data": {
      "text/plain": [
       "5"
      ]
     },
     "execution_count": 88,
     "metadata": {},
     "output_type": "execute_result"
    }
   ],
   "source": [
    "# edges=[[1,2],[3,4],[1,5],[5,3]]\n",
    "toy = np.array([[1,1,2,3,3], [2,3,1,1,2]])\n",
    "toydata = np.array([100,10,200,300,30])\n",
    "lil = sparse.lil_matrix((3,3))\n",
    "lil[toy[0,:]-1,toy[1,:]-1] = toydata\n",
    "csr = lil.tocsr()\n",
    "csr.getnnz(axis=1)\n",
    "csr.max(axis=1).A\n",
    "denom = np.repeat(csr.max(axis=1).A,csr.getnnz(axis=1))\n",
    "csr.data = csr.data/denom\n",
    "len(csr.data)"
   ]
  },
  {
   "cell_type": "code",
   "execution_count": 97,
   "id": "e1f564a2-681e-408e-88bd-91fbb7a5d474",
   "metadata": {},
   "outputs": [
    {
     "data": {
      "text/plain": [
       "array([1., 1., 1.])"
      ]
     },
     "execution_count": 97,
     "metadata": {},
     "output_type": "execute_result"
    }
   ],
   "source": [
    "csr.data[csr.data < 1] = 0\n",
    "len(csr.data)\n",
    "csr.eliminate_zeros()\n",
    "csr.data"
   ]
  },
  {
   "cell_type": "code",
   "execution_count": null,
   "id": "ba8674e1-4cd1-4557-a13c-13ef5c882a90",
   "metadata": {},
   "outputs": [],
   "source": []
  }
 ],
 "metadata": {
  "kernelspec": {
   "display_name": "Python 3",
   "language": "python",
   "name": "python3"
  },
  "language_info": {
   "codemirror_mode": {
    "name": "ipython",
    "version": 3
   },
   "file_extension": ".py",
   "mimetype": "text/x-python",
   "name": "python",
   "nbconvert_exporter": "python",
   "pygments_lexer": "ipython3",
   "version": "3.8.8"
  }
 },
 "nbformat": 4,
 "nbformat_minor": 5
}
