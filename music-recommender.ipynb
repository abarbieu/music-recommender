{
 "cells": [
  {
   "cell_type": "code",
   "execution_count": 1,
   "id": "0faa6428-0365-40c2-85b3-68ac71c5c10c",
   "metadata": {},
   "outputs": [],
   "source": [
    "import numpy as np\n",
    "import pandas as pd\n",
    "from scipy import sparse\n",
    "from matplotlib import pyplot as plt\n",
    "import seaborn\n",
    "%matplotlib inline"
   ]
  },
  {
   "cell_type": "markdown",
   "id": "2191f8d0-0eec-48fc-89df-b58d0ea5f86d",
   "metadata": {},
   "source": [
    "### Data reading"
   ]
  },
  {
   "cell_type": "code",
   "execution_count": 3,
   "id": "efd61e86-5673-4dbf-b7ed-3183e7bd4aa0",
   "metadata": {},
   "outputs": [],
   "source": [
    "scrobs = pd.read_csv(\"./data/lastfm_user_scrobbles.csv\")"
   ]
  },
  {
   "cell_type": "code",
   "execution_count": 4,
   "id": "02b74e23-527a-4949-983a-d98e1fdf4f2e",
   "metadata": {},
   "outputs": [
    {
     "data": {
      "text/plain": [
       "352698"
      ]
     },
     "execution_count": 4,
     "metadata": {},
     "output_type": "execute_result"
    }
   ],
   "source": [
    "max(scrobs[\"scrobbles\"])"
   ]
  },
  {
   "cell_type": "markdown",
   "id": "16128485-af06-43ad-94eb-a519338428b3",
   "metadata": {},
   "source": [
    "### Make scipy csr sparse matrix from lil with users as rows and artist as column with # scrobbles as value"
   ]
  },
  {
   "cell_type": "code",
   "execution_count": 5,
   "id": "57430d54-a91d-4f7f-bbcf-d6980ef7a0c3",
   "metadata": {},
   "outputs": [],
   "source": [
    "scrobsLil = sparse.lil_matrix((max(scrobs[\"user_id\"])+1, max(scrobs[\"artist_id\"])+1)) # 0 indexing\n",
    "scrobsLil[scrobs[\"user_id\"], scrobs[\"artist_id\"]] = scrobs[\"scrobbles\"]\n",
    "scrobs = scrobsLil.tocsr()"
   ]
  },
  {
   "cell_type": "markdown",
   "id": "db490853-deb7-4753-ad14-b0c761d21e38",
   "metadata": {},
   "source": [
    "### Change #listens to ratings"
   ]
  },
  {
   "cell_type": "markdown",
   "id": "40d7be09-f2fb-411a-ae1e-1cd38c4b8dca",
   "metadata": {},
   "source": [
    "This is to make collaborative filtering work, rather than values like 100, 90, 80 for the top 3 artists of a user, these would be scores representing how they might rate those artists. \n",
    "\n",
    "1. Divide by max\n",
    "    * result: 1, .9, .8\n",
    "    * ranking of a user's artists\n",
    "    * \n",
    "2. Divide by sum\n",
    "    * result: 0.37, 0.33, 0.29\n",
    "    * proportion of total listens that artist occupies\n",
    "    * users with many artists have lower ratings\n",
    "    * ranking doesn't affect rating, so "
   ]
  },
  {
   "cell_type": "code",
   "execution_count": 6,
   "id": "6f297223-2725-45d9-94a4-5d82ed6566ce",
   "metadata": {},
   "outputs": [],
   "source": [
    "denom_max = np.repeat(scrobs.max(axis=1).A, scrobs.getnnz(axis=1))\n",
    "scrobs.data /= denom_max\n"
   ]
  },
  {
   "cell_type": "markdown",
   "id": "6be45af1-05af-4a30-9252-75954dfde76d",
   "metadata": {},
   "source": [
    "### "
   ]
  },
  {
   "cell_type": "code",
   "execution_count": 7,
   "id": "2b392cc2-6e7b-4347-8d8f-5e777f0295da",
   "metadata": {},
   "outputs": [
    {
     "data": {
      "text/plain": [
       "array([[0. , 1. , 0.1],\n",
       "       [1. , 0. , 0. ],\n",
       "       [1. , 0.1, 0. ]])"
      ]
     },
     "execution_count": 7,
     "metadata": {},
     "output_type": "execute_result"
    }
   ],
   "source": [
    "# edges=[[1,2],[3,4],[1,5],[5,3]]\n",
    "toy = np.array([[1,1,2,3,3], [2,3,1,1,2]])\n",
    "toydata = np.array([100,10,200,300,30])\n",
    "lil = sparse.lil_matrix((3,3))\n",
    "lil[toy[0,:]-1,toy[1,:]-1] = toydata\n",
    "csr = lil.tocsr()\n",
    "csr.getnnz(axis=1)\n",
    "csr.max(axis=1).A\n",
    "denom = np.repeat(csr.max(axis=1).A,csr.getnnz(axis=1))\n",
    "csr.data = csr.data/denom\n",
    "csr.A"
   ]
  },
  {
   "cell_type": "markdown",
   "id": "84c6e43f-02d1-4ade-9b12-2eb46dfae86b",
   "metadata": {},
   "source": [
    "### Clustering by tags"
   ]
  },
  {
   "cell_type": "code",
   "execution_count": 10,
   "id": "8984bd37-f1a9-4648-8064-ea3d1050c093",
   "metadata": {},
   "outputs": [],
   "source": [
    "big_set = pd.read_csv('./data/artists.csv', low_memory=False)"
   ]
  },
  {
   "cell_type": "code",
   "execution_count": 11,
   "id": "ac643f5f-b040-4d46-a28a-724a3a3b5107",
   "metadata": {},
   "outputs": [
    {
     "data": {
      "text/html": [
       "<div>\n",
       "<style scoped>\n",
       "    .dataframe tbody tr th:only-of-type {\n",
       "        vertical-align: middle;\n",
       "    }\n",
       "\n",
       "    .dataframe tbody tr th {\n",
       "        vertical-align: top;\n",
       "    }\n",
       "\n",
       "    .dataframe thead th {\n",
       "        text-align: right;\n",
       "    }\n",
       "</style>\n",
       "<table border=\"1\" class=\"dataframe\">\n",
       "  <thead>\n",
       "    <tr style=\"text-align: right;\">\n",
       "      <th></th>\n",
       "      <th>mbid</th>\n",
       "      <th>artist_mb</th>\n",
       "      <th>artist_lastfm</th>\n",
       "      <th>country_mb</th>\n",
       "      <th>country_lastfm</th>\n",
       "      <th>tags_mb</th>\n",
       "      <th>tags_lastfm</th>\n",
       "      <th>listeners_lastfm</th>\n",
       "      <th>scrobbles_lastfm</th>\n",
       "      <th>ambiguous_artist</th>\n",
       "    </tr>\n",
       "  </thead>\n",
       "  <tbody>\n",
       "    <tr>\n",
       "      <th>0</th>\n",
       "      <td>cc197bad-dc9c-440d-a5b5-d52ba2e14234</td>\n",
       "      <td>Coldplay</td>\n",
       "      <td>Coldplay</td>\n",
       "      <td>United Kingdom</td>\n",
       "      <td>United Kingdom</td>\n",
       "      <td>rock; pop; alternative rock; british; uk; brit...</td>\n",
       "      <td>rock; alternative; britpop; alternative rock; ...</td>\n",
       "      <td>5381567.0</td>\n",
       "      <td>360111850.0</td>\n",
       "      <td>False</td>\n",
       "    </tr>\n",
       "    <tr>\n",
       "      <th>1</th>\n",
       "      <td>a74b1b7f-71a5-4011-9441-d0b5e4122711</td>\n",
       "      <td>Radiohead</td>\n",
       "      <td>Radiohead</td>\n",
       "      <td>United Kingdom</td>\n",
       "      <td>United Kingdom</td>\n",
       "      <td>rock; electronic; alternative rock; british; g...</td>\n",
       "      <td>alternative; alternative rock; rock; indie; el...</td>\n",
       "      <td>4732528.0</td>\n",
       "      <td>499548797.0</td>\n",
       "      <td>False</td>\n",
       "    </tr>\n",
       "    <tr>\n",
       "      <th>2</th>\n",
       "      <td>8bfac288-ccc5-448d-9573-c33ea2aa5c30</td>\n",
       "      <td>Red Hot Chili Peppers</td>\n",
       "      <td>Red Hot Chili Peppers</td>\n",
       "      <td>United States</td>\n",
       "      <td>United States</td>\n",
       "      <td>rock; alternative rock; 80s; 90s; rap; metal; ...</td>\n",
       "      <td>rock; alternative rock; alternative; Funk Rock...</td>\n",
       "      <td>4620835.0</td>\n",
       "      <td>293784041.0</td>\n",
       "      <td>False</td>\n",
       "    </tr>\n",
       "    <tr>\n",
       "      <th>3</th>\n",
       "      <td>73e5e69d-3554-40d8-8516-00cb38737a1c</td>\n",
       "      <td>Rihanna</td>\n",
       "      <td>Rihanna</td>\n",
       "      <td>United States</td>\n",
       "      <td>Barbados; United States</td>\n",
       "      <td>pop; dance; hip hop; reggae; contemporary r b;...</td>\n",
       "      <td>pop; rnb; female vocalists; dance; Hip-Hop; Ri...</td>\n",
       "      <td>4558193.0</td>\n",
       "      <td>199248986.0</td>\n",
       "      <td>False</td>\n",
       "    </tr>\n",
       "    <tr>\n",
       "      <th>4</th>\n",
       "      <td>b95ce3ff-3d05-4e87-9e01-c97b66af13d4</td>\n",
       "      <td>Eminem</td>\n",
       "      <td>Eminem</td>\n",
       "      <td>United States</td>\n",
       "      <td>United States</td>\n",
       "      <td>turkish; rap; american; hip-hop; hip hop; hiph...</td>\n",
       "      <td>rap; Hip-Hop; Eminem; hip hop; pop; american; ...</td>\n",
       "      <td>4517997.0</td>\n",
       "      <td>199507511.0</td>\n",
       "      <td>False</td>\n",
       "    </tr>\n",
       "    <tr>\n",
       "      <th>...</th>\n",
       "      <td>...</td>\n",
       "      <td>...</td>\n",
       "      <td>...</td>\n",
       "      <td>...</td>\n",
       "      <td>...</td>\n",
       "      <td>...</td>\n",
       "      <td>...</td>\n",
       "      <td>...</td>\n",
       "      <td>...</td>\n",
       "      <td>...</td>\n",
       "    </tr>\n",
       "    <tr>\n",
       "      <th>1466078</th>\n",
       "      <td>1eab523e-98ff-4083-aa34-8922740bc696</td>\n",
       "      <td>정은지</td>\n",
       "      <td>NaN</td>\n",
       "      <td>South Korea</td>\n",
       "      <td>South Korea</td>\n",
       "      <td>NaN</td>\n",
       "      <td>NaN</td>\n",
       "      <td>NaN</td>\n",
       "      <td>NaN</td>\n",
       "      <td>False</td>\n",
       "    </tr>\n",
       "    <tr>\n",
       "      <th>1466079</th>\n",
       "      <td>a18f0527-907e-42b0-8268-504966274581</td>\n",
       "      <td>남태현</td>\n",
       "      <td>NaN</td>\n",
       "      <td>South Korea</td>\n",
       "      <td>NaN</td>\n",
       "      <td>NaN</td>\n",
       "      <td>NaN</td>\n",
       "      <td>NaN</td>\n",
       "      <td>NaN</td>\n",
       "      <td>False</td>\n",
       "    </tr>\n",
       "    <tr>\n",
       "      <th>1466080</th>\n",
       "      <td>20a57e37-24b5-4301-855b-35076580fb88</td>\n",
       "      <td>헤일로</td>\n",
       "      <td>NaN</td>\n",
       "      <td>South Korea</td>\n",
       "      <td>NaN</td>\n",
       "      <td>NaN</td>\n",
       "      <td>NaN</td>\n",
       "      <td>NaN</td>\n",
       "      <td>NaN</td>\n",
       "      <td>False</td>\n",
       "    </tr>\n",
       "    <tr>\n",
       "      <th>1466081</th>\n",
       "      <td>83891a4d-1bf4-4abe-a483-5b3d9d614efa</td>\n",
       "      <td>서현진</td>\n",
       "      <td>NaN</td>\n",
       "      <td>South Korea</td>\n",
       "      <td>South Korea</td>\n",
       "      <td>NaN</td>\n",
       "      <td>NaN</td>\n",
       "      <td>NaN</td>\n",
       "      <td>NaN</td>\n",
       "      <td>False</td>\n",
       "    </tr>\n",
       "    <tr>\n",
       "      <th>1466082</th>\n",
       "      <td>3d05dd13-f524-4e80-91aa-24094e8b5928</td>\n",
       "      <td>김희철</td>\n",
       "      <td>NaN</td>\n",
       "      <td>South Korea</td>\n",
       "      <td>South Korea</td>\n",
       "      <td>NaN</td>\n",
       "      <td>NaN</td>\n",
       "      <td>NaN</td>\n",
       "      <td>NaN</td>\n",
       "      <td>False</td>\n",
       "    </tr>\n",
       "  </tbody>\n",
       "</table>\n",
       "<p>1466083 rows × 10 columns</p>\n",
       "</div>"
      ],
      "text/plain": [
       "                                         mbid              artist_mb  \\\n",
       "0        cc197bad-dc9c-440d-a5b5-d52ba2e14234               Coldplay   \n",
       "1        a74b1b7f-71a5-4011-9441-d0b5e4122711              Radiohead   \n",
       "2        8bfac288-ccc5-448d-9573-c33ea2aa5c30  Red Hot Chili Peppers   \n",
       "3        73e5e69d-3554-40d8-8516-00cb38737a1c                Rihanna   \n",
       "4        b95ce3ff-3d05-4e87-9e01-c97b66af13d4                 Eminem   \n",
       "...                                       ...                    ...   \n",
       "1466078  1eab523e-98ff-4083-aa34-8922740bc696                    정은지   \n",
       "1466079  a18f0527-907e-42b0-8268-504966274581                    남태현   \n",
       "1466080  20a57e37-24b5-4301-855b-35076580fb88                    헤일로   \n",
       "1466081  83891a4d-1bf4-4abe-a483-5b3d9d614efa                    서현진   \n",
       "1466082  3d05dd13-f524-4e80-91aa-24094e8b5928                    김희철   \n",
       "\n",
       "                 artist_lastfm      country_mb           country_lastfm  \\\n",
       "0                     Coldplay  United Kingdom           United Kingdom   \n",
       "1                    Radiohead  United Kingdom           United Kingdom   \n",
       "2        Red Hot Chili Peppers   United States            United States   \n",
       "3                      Rihanna   United States  Barbados; United States   \n",
       "4                       Eminem   United States            United States   \n",
       "...                        ...             ...                      ...   \n",
       "1466078                    NaN     South Korea              South Korea   \n",
       "1466079                    NaN     South Korea                      NaN   \n",
       "1466080                    NaN     South Korea                      NaN   \n",
       "1466081                    NaN     South Korea              South Korea   \n",
       "1466082                    NaN     South Korea              South Korea   \n",
       "\n",
       "                                                   tags_mb  \\\n",
       "0        rock; pop; alternative rock; british; uk; brit...   \n",
       "1        rock; electronic; alternative rock; british; g...   \n",
       "2        rock; alternative rock; 80s; 90s; rap; metal; ...   \n",
       "3        pop; dance; hip hop; reggae; contemporary r b;...   \n",
       "4        turkish; rap; american; hip-hop; hip hop; hiph...   \n",
       "...                                                    ...   \n",
       "1466078                                                NaN   \n",
       "1466079                                                NaN   \n",
       "1466080                                                NaN   \n",
       "1466081                                                NaN   \n",
       "1466082                                                NaN   \n",
       "\n",
       "                                               tags_lastfm  listeners_lastfm  \\\n",
       "0        rock; alternative; britpop; alternative rock; ...         5381567.0   \n",
       "1        alternative; alternative rock; rock; indie; el...         4732528.0   \n",
       "2        rock; alternative rock; alternative; Funk Rock...         4620835.0   \n",
       "3        pop; rnb; female vocalists; dance; Hip-Hop; Ri...         4558193.0   \n",
       "4        rap; Hip-Hop; Eminem; hip hop; pop; american; ...         4517997.0   \n",
       "...                                                    ...               ...   \n",
       "1466078                                                NaN               NaN   \n",
       "1466079                                                NaN               NaN   \n",
       "1466080                                                NaN               NaN   \n",
       "1466081                                                NaN               NaN   \n",
       "1466082                                                NaN               NaN   \n",
       "\n",
       "         scrobbles_lastfm  ambiguous_artist  \n",
       "0             360111850.0             False  \n",
       "1             499548797.0             False  \n",
       "2             293784041.0             False  \n",
       "3             199248986.0             False  \n",
       "4             199507511.0             False  \n",
       "...                   ...               ...  \n",
       "1466078               NaN             False  \n",
       "1466079               NaN             False  \n",
       "1466080               NaN             False  \n",
       "1466081               NaN             False  \n",
       "1466082               NaN             False  \n",
       "\n",
       "[1466083 rows x 10 columns]"
      ]
     },
     "execution_count": 11,
     "metadata": {},
     "output_type": "execute_result"
    }
   ],
   "source": [
    "big_set"
   ]
  },
  {
   "cell_type": "code",
   "execution_count": 48,
   "id": "993053fa-fa8c-4b39-b456-842f5aa7a10a",
   "metadata": {},
   "outputs": [],
   "source": [
    "artist_tags=big_set[['artist_mb', 'tags_mb']]"
   ]
  },
  {
   "cell_type": "code",
   "execution_count": 70,
   "id": "d80704f1-4b0e-440a-a60c-5457a8bbb668",
   "metadata": {},
   "outputs": [
    {
     "data": {
      "text/plain": [
       "array([list(['rock', 'pop', 'alternative rock', 'british', 'uk', 'britannique', 'britpop', 'pop rock', 'piano pop', 'piano rock', 'english', 'parlophone', 'rock and indie', 'ambient pop', 'pop/rock', 'chapel', 'post-britpop']),\n",
       "       list(['rock', 'electronic', 'alternative rock', 'british', 'grunge', 'uk', 'britannique', 'britpop', 'art rock', 'experimental rock', 'english', 'chamber pop', 'parlophone', 'england', 'melancholic', 'oxford', 'bootleg', 'rock and indie', 'c’était mieux avant', 'art pop', 'nude', 'sacred cows']),\n",
       "       list(['rock', 'alternative rock', '80s', '90s', 'rap', 'metal', 'american', 'crossover', 'usa', 'funk', 'funk rock', 'alternative', 'pop rock', 'funk metal', 'rap rock', '00s', 'dvd', 'pop and chart', '10s', 'funk rock tributo']),\n",
       "       ..., list(['rock']), list(['chinese']), list(['chinese'])],\n",
       "      dtype=object)"
      ]
     },
     "execution_count": 70,
     "metadata": {},
     "output_type": "execute_result"
    }
   ],
   "source": [
    "artist_tags[\"tags_mb\"].to_numpy()"
   ]
  },
  {
   "cell_type": "code",
   "execution_count": 49,
   "id": "ce776c85-f21d-4df5-a236-b0eaf38d9f64",
   "metadata": {},
   "outputs": [
    {
     "data": {
      "text/html": [
       "<div>\n",
       "<style scoped>\n",
       "    .dataframe tbody tr th:only-of-type {\n",
       "        vertical-align: middle;\n",
       "    }\n",
       "\n",
       "    .dataframe tbody tr th {\n",
       "        vertical-align: top;\n",
       "    }\n",
       "\n",
       "    .dataframe thead th {\n",
       "        text-align: right;\n",
       "    }\n",
       "</style>\n",
       "<table border=\"1\" class=\"dataframe\">\n",
       "  <thead>\n",
       "    <tr style=\"text-align: right;\">\n",
       "      <th></th>\n",
       "      <th>artist_mb</th>\n",
       "      <th>tags_mb</th>\n",
       "    </tr>\n",
       "  </thead>\n",
       "  <tbody>\n",
       "    <tr>\n",
       "      <th>0</th>\n",
       "      <td>Coldplay</td>\n",
       "      <td>rock; pop; alternative rock; british; uk; brit...</td>\n",
       "    </tr>\n",
       "    <tr>\n",
       "      <th>1</th>\n",
       "      <td>Radiohead</td>\n",
       "      <td>rock; electronic; alternative rock; british; g...</td>\n",
       "    </tr>\n",
       "    <tr>\n",
       "      <th>2</th>\n",
       "      <td>Red Hot Chili Peppers</td>\n",
       "      <td>rock; alternative rock; 80s; 90s; rap; metal; ...</td>\n",
       "    </tr>\n",
       "    <tr>\n",
       "      <th>3</th>\n",
       "      <td>Rihanna</td>\n",
       "      <td>pop; dance; hip hop; reggae; contemporary r b;...</td>\n",
       "    </tr>\n",
       "    <tr>\n",
       "      <th>4</th>\n",
       "      <td>Eminem</td>\n",
       "      <td>turkish; rap; american; hip-hop; hip hop; hiph...</td>\n",
       "    </tr>\n",
       "    <tr>\n",
       "      <th>...</th>\n",
       "      <td>...</td>\n",
       "      <td>...</td>\n",
       "    </tr>\n",
       "    <tr>\n",
       "      <th>1466059</th>\n",
       "      <td>Kazushige Kinoshita</td>\n",
       "      <td>japanese; violinist; japan; chamber music; fre...</td>\n",
       "    </tr>\n",
       "    <tr>\n",
       "      <th>1466061</th>\n",
       "      <td>水越恵子</td>\n",
       "      <td>likedis auto</td>\n",
       "    </tr>\n",
       "    <tr>\n",
       "      <th>1466063</th>\n",
       "      <td>大槻ケンヂ</td>\n",
       "      <td>rock</td>\n",
       "    </tr>\n",
       "    <tr>\n",
       "      <th>1466069</th>\n",
       "      <td>孫耀威</td>\n",
       "      <td>chinese</td>\n",
       "    </tr>\n",
       "    <tr>\n",
       "      <th>1466070</th>\n",
       "      <td>金莎</td>\n",
       "      <td>chinese</td>\n",
       "    </tr>\n",
       "  </tbody>\n",
       "</table>\n",
       "<p>119943 rows × 2 columns</p>\n",
       "</div>"
      ],
      "text/plain": [
       "                     artist_mb  \\\n",
       "0                     Coldplay   \n",
       "1                    Radiohead   \n",
       "2        Red Hot Chili Peppers   \n",
       "3                      Rihanna   \n",
       "4                       Eminem   \n",
       "...                        ...   \n",
       "1466059    Kazushige Kinoshita   \n",
       "1466061                   水越恵子   \n",
       "1466063                  大槻ケンヂ   \n",
       "1466069                    孫耀威   \n",
       "1466070                     金莎   \n",
       "\n",
       "                                                   tags_mb  \n",
       "0        rock; pop; alternative rock; british; uk; brit...  \n",
       "1        rock; electronic; alternative rock; british; g...  \n",
       "2        rock; alternative rock; 80s; 90s; rap; metal; ...  \n",
       "3        pop; dance; hip hop; reggae; contemporary r b;...  \n",
       "4        turkish; rap; american; hip-hop; hip hop; hiph...  \n",
       "...                                                    ...  \n",
       "1466059  japanese; violinist; japan; chamber music; fre...  \n",
       "1466061                                       likedis auto  \n",
       "1466063                                               rock  \n",
       "1466069                                            chinese  \n",
       "1466070                                            chinese  \n",
       "\n",
       "[119943 rows x 2 columns]"
      ]
     },
     "execution_count": 49,
     "metadata": {},
     "output_type": "execute_result"
    }
   ],
   "source": [
    "artist_tags = artist_tags.dropna()\n",
    "artist_tags"
   ]
  },
  {
   "cell_type": "code",
   "execution_count": 50,
   "id": "4a348c75-0f0b-403f-a5cc-894c9c1c5cb8",
   "metadata": {},
   "outputs": [
    {
     "data": {
      "text/plain": [
       "'rock; pop; alternative rock; british; uk; britannique; britpop; pop rock; piano pop; piano rock; english; parlophone; rock and indie; ambient pop; pop/rock; chapel; post-britpop'"
      ]
     },
     "execution_count": 50,
     "metadata": {},
     "output_type": "execute_result"
    }
   ],
   "source": [
    "artist_tags['tags_mb'][0]"
   ]
  },
  {
   "cell_type": "code",
   "execution_count": 51,
   "id": "87151697-797d-4afa-a210-f6412cdb6076",
   "metadata": {},
   "outputs": [],
   "source": [
    "tagray=[tag.strip() for tag in artist_tags['tags_mb'][0].split(';')]"
   ]
  },
  {
   "cell_type": "code",
   "execution_count": 52,
   "id": "36143662-5351-422f-afa2-afda2a2653ab",
   "metadata": {},
   "outputs": [
    {
     "data": {
      "text/plain": [
       "['rock',\n",
       " 'pop',\n",
       " 'alternative rock',\n",
       " 'british',\n",
       " 'uk',\n",
       " 'britannique',\n",
       " 'britpop',\n",
       " 'pop rock',\n",
       " 'piano pop',\n",
       " 'piano rock',\n",
       " 'english',\n",
       " 'parlophone',\n",
       " 'rock and indie',\n",
       " 'ambient pop',\n",
       " 'pop/rock',\n",
       " 'chapel',\n",
       " 'post-britpop']"
      ]
     },
     "execution_count": 52,
     "metadata": {},
     "output_type": "execute_result"
    }
   ],
   "source": [
    "tagray"
   ]
  },
  {
   "cell_type": "code",
   "execution_count": 54,
   "id": "bd7a5009-e28e-4f3c-9467-ee4bed7efccf",
   "metadata": {},
   "outputs": [
    {
     "data": {
      "text/html": [
       "<div>\n",
       "<style scoped>\n",
       "    .dataframe tbody tr th:only-of-type {\n",
       "        vertical-align: middle;\n",
       "    }\n",
       "\n",
       "    .dataframe tbody tr th {\n",
       "        vertical-align: top;\n",
       "    }\n",
       "\n",
       "    .dataframe thead th {\n",
       "        text-align: right;\n",
       "    }\n",
       "</style>\n",
       "<table border=\"1\" class=\"dataframe\">\n",
       "  <thead>\n",
       "    <tr style=\"text-align: right;\">\n",
       "      <th></th>\n",
       "      <th>artist_mb</th>\n",
       "      <th>tags_mb</th>\n",
       "    </tr>\n",
       "  </thead>\n",
       "  <tbody>\n",
       "    <tr>\n",
       "      <th>0</th>\n",
       "      <td>Coldplay</td>\n",
       "      <td>[rock, pop, alternative rock, british, uk, bri...</td>\n",
       "    </tr>\n",
       "    <tr>\n",
       "      <th>1</th>\n",
       "      <td>Radiohead</td>\n",
       "      <td>[rock, electronic, alternative rock, british, ...</td>\n",
       "    </tr>\n",
       "    <tr>\n",
       "      <th>2</th>\n",
       "      <td>Red Hot Chili Peppers</td>\n",
       "      <td>[rock, alternative rock, 80s, 90s, rap, metal,...</td>\n",
       "    </tr>\n",
       "    <tr>\n",
       "      <th>3</th>\n",
       "      <td>Rihanna</td>\n",
       "      <td>[pop, dance, hip hop, reggae, contemporary r b...</td>\n",
       "    </tr>\n",
       "    <tr>\n",
       "      <th>4</th>\n",
       "      <td>Eminem</td>\n",
       "      <td>[turkish, rap, american, hip-hop, hip hop, hip...</td>\n",
       "    </tr>\n",
       "    <tr>\n",
       "      <th>...</th>\n",
       "      <td>...</td>\n",
       "      <td>...</td>\n",
       "    </tr>\n",
       "    <tr>\n",
       "      <th>1466059</th>\n",
       "      <td>Kazushige Kinoshita</td>\n",
       "      <td>[japanese, violinist, japan, chamber music, fr...</td>\n",
       "    </tr>\n",
       "    <tr>\n",
       "      <th>1466061</th>\n",
       "      <td>水越恵子</td>\n",
       "      <td>[likedis auto]</td>\n",
       "    </tr>\n",
       "    <tr>\n",
       "      <th>1466063</th>\n",
       "      <td>大槻ケンヂ</td>\n",
       "      <td>[rock]</td>\n",
       "    </tr>\n",
       "    <tr>\n",
       "      <th>1466069</th>\n",
       "      <td>孫耀威</td>\n",
       "      <td>[chinese]</td>\n",
       "    </tr>\n",
       "    <tr>\n",
       "      <th>1466070</th>\n",
       "      <td>金莎</td>\n",
       "      <td>[chinese]</td>\n",
       "    </tr>\n",
       "  </tbody>\n",
       "</table>\n",
       "<p>119943 rows × 2 columns</p>\n",
       "</div>"
      ],
      "text/plain": [
       "                     artist_mb  \\\n",
       "0                     Coldplay   \n",
       "1                    Radiohead   \n",
       "2        Red Hot Chili Peppers   \n",
       "3                      Rihanna   \n",
       "4                       Eminem   \n",
       "...                        ...   \n",
       "1466059    Kazushige Kinoshita   \n",
       "1466061                   水越恵子   \n",
       "1466063                  大槻ケンヂ   \n",
       "1466069                    孫耀威   \n",
       "1466070                     金莎   \n",
       "\n",
       "                                                   tags_mb  \n",
       "0        [rock, pop, alternative rock, british, uk, bri...  \n",
       "1        [rock, electronic, alternative rock, british, ...  \n",
       "2        [rock, alternative rock, 80s, 90s, rap, metal,...  \n",
       "3        [pop, dance, hip hop, reggae, contemporary r b...  \n",
       "4        [turkish, rap, american, hip-hop, hip hop, hip...  \n",
       "...                                                    ...  \n",
       "1466059  [japanese, violinist, japan, chamber music, fr...  \n",
       "1466061                                     [likedis auto]  \n",
       "1466063                                             [rock]  \n",
       "1466069                                          [chinese]  \n",
       "1466070                                          [chinese]  \n",
       "\n",
       "[119943 rows x 2 columns]"
      ]
     },
     "execution_count": 54,
     "metadata": {},
     "output_type": "execute_result"
    }
   ],
   "source": [
    "artist_tags['tags_mb'] = artist_tags['tags_mb'].apply(lambda x: [tag.strip() for tag in x.split(';')])\n",
    "artist_tags"
   ]
  },
  {
   "cell_type": "code",
   "execution_count": 61,
   "id": "83ed864b-8c1b-4cb7-83e9-5fad9c875554",
   "metadata": {},
   "outputs": [],
   "source": [
    "artist_tags_len = artist_tags\n",
    "artist_tags_len['tags_len'] = artist_tags_len['tags_mb'].apply(lambda x: len(x))"
   ]
  },
  {
   "cell_type": "code",
   "execution_count": 65,
   "id": "ab4a4e7e-2d99-44ed-96c6-15a64e73ea84",
   "metadata": {},
   "outputs": [],
   "source": [
    "tag_list=[]\n",
    "for artist in artist_tags_len['tags_mb']:\n",
    "    for tag in artist:\n",
    "        if tag not in tag_list:\n",
    "            tag_list.append(tag)"
   ]
  },
  {
   "cell_type": "code",
   "execution_count": 67,
   "id": "4b227860-22ee-4001-838d-6fad75392088",
   "metadata": {},
   "outputs": [
    {
     "data": {
      "text/plain": [
       "36091"
      ]
     },
     "execution_count": 67,
     "metadata": {},
     "output_type": "execute_result"
    }
   ],
   "source": [
    "len(tag_list)"
   ]
  },
  {
   "cell_type": "code",
   "execution_count": null,
   "id": "0913c6ac-aa23-499a-b8b7-013b70341360",
   "metadata": {},
   "outputs": [],
   "source": []
  }
 ],
 "metadata": {
  "kernelspec": {
   "display_name": "Python 3",
   "language": "python",
   "name": "python3"
  },
  "language_info": {
   "codemirror_mode": {
    "name": "ipython",
    "version": 3
   },
   "file_extension": ".py",
   "mimetype": "text/x-python",
   "name": "python",
   "nbconvert_exporter": "python",
   "pygments_lexer": "ipython3",
   "version": "3.8.8"
  }
 },
 "nbformat": 4,
 "nbformat_minor": 5
}
