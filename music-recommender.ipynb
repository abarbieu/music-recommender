{
 "cells": [
  {
   "cell_type": "code",
   "execution_count": 5,
   "id": "0faa6428-0365-40c2-85b3-68ac71c5c10c",
   "metadata": {},
   "outputs": [],
   "source": [
    "import numpy as np\n",
    "import pandas as pd\n",
    "from scipy import sparse\n",
    "from matplotlib import pyplot as plt\n",
    "import seaborn\n",
    "%matplotlib inline"
   ]
  },
  {
   "cell_type": "markdown",
   "id": "2191f8d0-0eec-48fc-89df-b58d0ea5f86d",
   "metadata": {},
   "source": [
    "### Data reading"
   ]
  },
  {
   "cell_type": "code",
   "execution_count": 86,
   "id": "efd61e86-5673-4dbf-b7ed-3183e7bd4aa0",
   "metadata": {},
   "outputs": [],
   "source": [
    "scrobs = pd.read_csv(\"./data/lastfm_user_scrobbles.csv\")"
   ]
  },
  {
   "cell_type": "code",
   "execution_count": 88,
   "id": "02b74e23-527a-4949-983a-d98e1fdf4f2e",
   "metadata": {},
   "outputs": [
    {
     "data": {
      "text/plain": [
       "352698"
      ]
     },
     "execution_count": 88,
     "metadata": {},
     "output_type": "execute_result"
    }
   ],
   "source": [
    "max(scrobs[\"scrobbles\"])"
   ]
  },
  {
   "cell_type": "markdown",
   "id": "16128485-af06-43ad-94eb-a519338428b3",
   "metadata": {},
   "source": [
    "### Make scipy csr sparse matrix from lil with users as rows and artist as column with # scrobbles as value"
   ]
  },
  {
   "cell_type": "code",
   "execution_count": 89,
   "id": "57430d54-a91d-4f7f-bbcf-d6980ef7a0c3",
   "metadata": {},
   "outputs": [],
   "source": [
    "scrobsLil = sparse.lil_matrix((max(scrobs[\"user_id\"])+1, max(scrobs[\"artist_id\"])+1)) # 0 indexing\n",
    "scrobsLil[scrobs[\"user_id\"], scrobs[\"artist_id\"]] = scrobs[\"scrobbles\"]\n",
    "scrobs = scrobsLil.tocsr()"
   ]
  },
  {
   "cell_type": "markdown",
   "id": "db490853-deb7-4753-ad14-b0c761d21e38",
   "metadata": {},
   "source": [
    "### Change #listens to ratings"
   ]
  },
  {
   "cell_type": "markdown",
   "id": "40d7be09-f2fb-411a-ae1e-1cd38c4b8dca",
   "metadata": {},
   "source": [
    "This is to make collaborative filtering work, rather than values like 100, 90, 80 for the top 3 artists of a user, these would be scores representing how they might rate those artists. \n",
    "\n",
    "1. Divide by max\n",
    "    * result: 1, .9, .8\n",
    "    * ranking of a user's artists\n",
    "    * \n",
    "2. Divide by sum\n",
    "    * result: 0.37, 0.33, 0.29\n",
    "    * proportion of total listens that artist occupies\n",
    "    * users with many artists have lower ratings\n",
    "    * ranking doesn't affect rating, so "
   ]
  },
  {
   "cell_type": "code",
   "execution_count": 90,
   "id": "6f297223-2725-45d9-94a4-5d82ed6566ce",
   "metadata": {},
   "outputs": [],
   "source": [
    "denom_max = np.repeat(scrobs.max(axis=1).A, scrobs.getnnz(axis=1))\n",
    "scrobs.data /= denom_max"
   ]
  },
  {
   "cell_type": "code",
   "execution_count": 95,
   "id": "11c4b66a-96e8-44eb-912e-f0baeac0d043",
   "metadata": {},
   "outputs": [
    {
     "data": {
      "text/plain": [
       "[7.591112325689083e-06,\n",
       " 1.2635196603659153e-05,\n",
       " 1.5182224651378166e-05,\n",
       " 1.8728345350688267e-05,\n",
       " 2.358546192127173e-05,\n",
       " 2.5270393207318306e-05,\n",
       " 2.948182740158966e-05,\n",
       " 2.948182740158966e-05,\n",
       " 3.5378192881907595e-05,\n",
       " 3.7456690701376534e-05,\n",
       " 3.7456690701376534e-05,\n",
       " 3.7456690701376534e-05,\n",
       " 4.127455836222553e-05,\n",
       " 4.601932811780948e-05,\n",
       " 5.054078641463661e-05,\n",
       " 5.896365480317932e-05,\n",
       " 6.486002028349725e-05,\n",
       " 7.075638576381519e-05,\n",
       " 7.32949756294206e-05,\n",
       " 7.32949756294206e-05,\n",
       " 7.32949756294206e-05,\n",
       " 7.32949756294206e-05,\n",
       " 7.32949756294206e-05,\n",
       " 7.32949756294206e-05,\n",
       " 7.32949756294206e-05,\n",
       " 7.491338140275307e-05,\n",
       " 9.203865623561896e-05,\n",
       " 9.203865623561896e-05,\n",
       " 0.00010613457864572278,\n",
       " 0.0001099424634441309,\n",
       " 0.0001099424634441309,\n",
       " 0.0001120309441260407,\n",
       " 0.00012382367508667657,\n",
       " 0.0001297200405669945,\n",
       " 0.00013080786940142318,\n",
       " 0.00013080786940142318,\n",
       " 0.0001383891502906172,\n",
       " 0.0001383891502906172,\n",
       " 0.0001383891502906172,\n",
       " 0.0001383891502906172,\n",
       " 0.0001383891502906172,\n",
       " 0.0001383891502906172,\n",
       " 0.0001383891502906172,\n",
       " 0.0001383891502906172,\n",
       " 0.0001383891502906172,\n",
       " 0.0001383891502906172,\n",
       " 0.0001383891502906172,\n",
       " 0.00013952839402818474,\n",
       " 0.00013952839402818474,\n",
       " 0.00014151277152763038,\n",
       " 0.0001465899512588412,\n",
       " 0.0001465899512588412,\n",
       " 0.0001465899512588412,\n",
       " 0.0001465899512588412,\n",
       " 0.0001465899512588412,\n",
       " 0.0001465899512588412,\n",
       " 0.0001465899512588412,\n",
       " 0.0001465899512588412,\n",
       " 0.00014982676280550614,\n",
       " 0.00015696944328170783,\n",
       " 0.00015708596298315484,\n",
       " 0.00015941335883947074,\n",
       " 0.00016568996790846936,\n",
       " 0.00016632631374686983,\n",
       " 0.00016632631374686983,\n",
       " 0.00016940643066810817,\n",
       " 0.0001724865475893465,\n",
       " 0.00018172689835306148,\n",
       " 0.00018323743907355152,\n",
       " 0.00018323743907355152,\n",
       " 0.00018323743907355152,\n",
       " 0.00018323743907355152,\n",
       " 0.00018323743907355152,\n",
       " 0.00019098548510313216,\n",
       " 0.00019712748295925314,\n",
       " 0.00020020759988049146,\n",
       " 0.00020057206641551555,\n",
       " 0.00021252806756544477,\n",
       " 0.0002181655227717635,\n",
       " 0.00021848372296263927,\n",
       " 0.00021848372296263927,\n",
       " 0.00021915406530791147,\n",
       " 0.00021915406530791147,\n",
       " 0.00021915406530791147,\n",
       " 0.0002198849268882618,\n",
       " 0.0002217684183291598,\n",
       " 0.0002240618882520814,\n",
       " 0.0002267336402958002,\n",
       " 0.00022792865217163643,\n",
       " 0.000228701672235617,\n",
       " 0.00022888532845044633,\n",
       " 0.0002300966405890474,\n",
       " 0.0002340888860141131,\n",
       " 0.00023557126030624264,\n",
       " 0.00023557126030624264,\n",
       " 0.00023557126030624264,\n",
       " 0.00023557126030624264,\n",
       " 0.00023557126030624264,\n",
       " 0.00023557126030624264,\n",
       " 0.00023645427129445146]"
      ]
     },
     "execution_count": 95,
     "metadata": {},
     "output_type": "execute_result"
    }
   ],
   "source": [
    "sorted(scrobs.data)[:100]"
   ]
  },
  {
   "cell_type": "markdown",
   "id": "4d93246f-4446-4a39-a1e1-47a1d38bd21b",
   "metadata": {},
   "source": [
    "### ----PLAYGROUND----"
   ]
  },
  {
   "cell_type": "code",
   "execution_count": 80,
   "id": "2b392cc2-6e7b-4347-8d8f-5e777f0295da",
   "metadata": {},
   "outputs": [
    {
     "data": {
      "text/plain": [
       "array([[0. , 1. , 0.1],\n",
       "       [1. , 0. , 0. ],\n",
       "       [1. , 0.1, 0. ]])"
      ]
     },
     "execution_count": 80,
     "metadata": {},
     "output_type": "execute_result"
    }
   ],
   "source": [
    "# edges=[[1,2],[3,4],[1,5],[5,3]]\n",
    "toy = np.array([[1,1,2,3,3], [2,3,1,1,2]])\n",
    "toydata = np.array([100,10,200,300,30])\n",
    "lil = sparse.lil_matrix((3,3))\n",
    "lil[toy[0,:]-1,toy[1,:]-1] = toydata\n",
    "csr = lil.tocsr()\n",
    "csr.getnnz(axis=1)\n",
    "csr.max(axis=1).A\n",
    "denom = np.repeat(csr.max(axis=1).A,csr.getnnz(axis=1))\n",
    "csr.data = csr.data/denom\n",
    "csr.A"
   ]
  }
 ],
 "metadata": {
  "kernelspec": {
   "display_name": "Python 3",
   "language": "python",
   "name": "python3"
  },
  "language_info": {
   "codemirror_mode": {
    "name": "ipython",
    "version": 3
   },
   "file_extension": ".py",
   "mimetype": "text/x-python",
   "name": "python",
   "nbconvert_exporter": "python",
   "pygments_lexer": "ipython3",
   "version": "3.8.8"
  }
 },
 "nbformat": 4,
 "nbformat_minor": 5
}
