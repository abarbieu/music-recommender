{
 "cells": [
  {
   "cell_type": "code",
   "execution_count": 269,
   "id": "0faa6428-0365-40c2-85b3-68ac71c5c10c",
   "metadata": {},
   "outputs": [],
   "source": [
    "import numpy as np\n",
    "import pandas as pd\n",
    "from scipy import sparse\n",
    "from scipy import stats\n",
    "from matplotlib import pyplot as plt\n",
    "import seaborn as sns\n",
    "%matplotlib inline"
   ]
  },
  {
   "cell_type": "markdown",
   "id": "a35ae03e-3769-4cf9-b253-96bcabf6772b",
   "metadata": {},
   "source": [
    "# Determining ratings from number of listens"
   ]
  },
  {
   "cell_type": "markdown",
   "id": "4f4bd500-27ed-4d46-baad-f75a95313d55",
   "metadata": {},
   "source": [
    "https://towardsdatascience.com/what-is-group-normalization-45fe27307be7"
   ]
  },
  {
   "cell_type": "markdown",
   "id": "d398a83e-2a79-4b37-8150-bc8b574cdf6e",
   "metadata": {},
   "source": [
    "### Original data\n",
    "This data is extremely left skewed, look at the 75% compared to the max"
   ]
  },
  {
   "cell_type": "code",
   "execution_count": 270,
   "id": "debf0bc1-84e9-4076-b392-1695c982f54c",
   "metadata": {
    "tags": []
   },
   "outputs": [
    {
     "data": {
      "text/plain": [
       "count     92792.000000\n",
       "mean        745.521521\n",
       "std        3752.146187\n",
       "min           1.000000\n",
       "25%         107.000000\n",
       "50%         260.000000\n",
       "75%         614.000000\n",
       "max      352698.000000\n",
       "Name: scrobbles, dtype: float64"
      ]
     },
     "execution_count": 270,
     "metadata": {},
     "output_type": "execute_result"
    }
   ],
   "source": [
    "scrobsdf = pd.read_csv(\"./data/lastfm_user_scrobbles.csv\")\n",
    "scrobsdf.scrobbles.describe()"
   ]
  },
  {
   "cell_type": "markdown",
   "id": "cf2a9026-f640-4c54-adec-690faea0c39d",
   "metadata": {},
   "source": [
    "Reading into a sparse matrix"
   ]
  },
  {
   "cell_type": "code",
   "execution_count": 271,
   "id": "f440d3b2-c5cc-49e9-9458-56e2341b4aba",
   "metadata": {},
   "outputs": [],
   "source": [
    "scrobsM = sparse.lil_matrix((max(scrobsdf[\"user_id\"])+1, max(scrobsdf[\"artist_id\"])+1)) # 0 indexing\n",
    "scrobsM[scrobsdf[\"user_id\"], scrobsdf[\"artist_id\"]] = scrobsdf[\"scrobbles\"]\n",
    "scrobsM = scrobsM.tocsr()"
   ]
  },
  {
   "cell_type": "markdown",
   "id": "18bfae0f-a6f9-41dd-af2b-7baf0236738b",
   "metadata": {},
   "source": [
    "### Comparing users\n",
    "\n",
    "Here we can see that the listening habits of distinct users are on wildly different scales"
   ]
  },
  {
   "cell_type": "code",
   "execution_count": 272,
   "id": "f1821596-4a69-4239-bd68-7099f2ed4942",
   "metadata": {},
   "outputs": [
    {
     "data": {
      "image/png": "[encoded data removed]",
      "text/plain": [
       "<Figure size 432x288 with 4 Axes>"
      ]
     },
     "metadata": {
      "needs_background": "light"
     },
     "output_type": "display_data"
    }
   ],
   "source": [
    "fig = plt.figure()\n",
    "fig.subplots_adjust(hspace=0.5, wspace=0.3)\n",
    "ax = fig.add_subplot(2,2,1)\n",
    "ax.set_xlabel(\"scrobbles\")\n",
    "sns.histplot(scrobsM[1].data,ax=ax)\n",
    "for i in range(2,5):\n",
    "    ax = fig.add_subplot(2, 2, i)\n",
    "    ax.set_xlabel(\"scrobbles\")\n",
    "    sns.histplot(scrobsM[i+11].data, ax=ax)\n",
    "\n",
    "plt.show()"
   ]
  },
  {
   "cell_type": "markdown",
   "id": "e511895b-245a-433f-b8c2-860c74de18d0",
   "metadata": {},
   "source": [
    "### User Normalization\n",
    "\n",
    "To make users comparable, we can normalize by each user's maximum and mean"
   ]
  },
  {
   "cell_type": "code",
   "execution_count": 273,
   "id": "8dcc149c-1131-4c5c-9ba1-c71d7c61d431",
   "metadata": {},
   "outputs": [],
   "source": [
    "def getUStats(df):\n",
    "    umean = df.groupby(\"user_id\").scrobbles.transform('mean').to_numpy()\n",
    "    uscrobs = df.groupby(\"user_id\").scrobbles\n",
    "    # scrobsdf[\"std\"] = scrobsdf.scrobbles - umean\n",
    "\n",
    "    # ustd = scrobsdf.groupby(\"user_id\")[\"std\"]\n",
    "    umin = uscrobs.transform('min').to_numpy()\n",
    "    umax = uscrobs.transform('max').to_numpy()\n",
    "    usum = uscrobs.transform('sum').to_numpy()\n",
    "    return umin,umax,usum,umean\n",
    "    # stdsum = uscrobs.transform('sum').to_numpy()"
   ]
  },
  {
   "cell_type": "markdown",
   "id": "cfd8f74a-b420-4c2a-8aa9-4915e1577487",
   "metadata": {},
   "source": [
    "While we're at it, lets drop any users who could not rank their preferences (those with only 1 artist listened to, only 1 listen per artist)"
   ]
  },
  {
   "cell_type": "code",
   "execution_count": 274,
   "id": "bf99ebf5-b760-4b2a-8653-a900045e7511",
   "metadata": {
    "tags": []
   },
   "outputs": [],
   "source": [
    "umin,umax,usum,umean = getUStats(scrobsdf)\n",
    "badusers2 = scrobsdf.iloc[(umax-umin) == 0].user_id.unique()\n",
    "scrobsdf = scrobsdf[~scrobsdf.user_id.isin(badusers)]\n",
    "umin,umax,usum,umean = getUStats(scrobsdf)"
   ]
  },
  {
   "cell_type": "code",
   "execution_count": 275,
   "id": "476061c9-c48a-468c-9f51-28748decaf97",
   "metadata": {
    "tags": []
   },
   "outputs": [],
   "source": [
    "scrobsdf[\"norm\"] = (scrobsdf.scrobbles)/(umax+umean)"
   ]
  },
  {
   "cell_type": "code",
   "execution_count": 276,
   "id": "b1d20428-a6e3-431c-b836-89ec8ee0df48",
   "metadata": {},
   "outputs": [
    {
     "data": {
      "image/png": "[encoded data removed]",
      "text/plain": [
       "<Figure size 432x288 with 4 Axes>"
      ]
     },
     "metadata": {
      "needs_background": "light"
     },
     "output_type": "display_data"
    }
   ],
   "source": [
    "scrobsM = sparse.lil_matrix((max(scrobsdf[\"user_id\"])+1, max(scrobsdf[\"artist_id\"])+1)) # 0 indexing\n",
    "scrobsM[scrobsdf[\"user_id\"], scrobsdf[\"artist_id\"]] = scrobsdf[\"norm\"]\n",
    "scrobsM = scrobsM.tocsr()\n",
    "\n",
    "fig = plt.figure()\n",
    "fig.subplots_adjust(hspace=0.5, wspace=0.3)\n",
    "ax = fig.add_subplot(2,2,1)\n",
    "ax.set_xlabel(\"scrobbles\")\n",
    "sns.histplot(scrobsM[1].data,ax=ax)\n",
    "for i in range(2,5):\n",
    "    ax = fig.add_subplot(2, 2, i)\n",
    "    ax.set_xlabel(\"scrobbles\")\n",
    "    sns.histplot(scrobsM[i+11].data, ax=ax)\n",
    "\n",
    "plt.show()"
   ]
  },
  {
   "cell_type": "code",
   "execution_count": 277,
   "id": "8953c0c9-902e-4f90-bb14-b5236b4b288a",
   "metadata": {},
   "outputs": [
    {
     "data": {
      "text/plain": [
       "count    92761.000000\n",
       "mean         0.146668\n",
       "std          0.165950\n",
       "min          0.000007\n",
       "25%          0.038668\n",
       "50%          0.094506\n",
       "75%          0.188740\n",
       "max          0.979618\n",
       "Name: norm, dtype: float64"
      ]
     },
     "execution_count": 277,
     "metadata": {},
     "output_type": "execute_result"
    }
   ],
   "source": [
    "scrobsdf.norm.describe()"
   ]
  },
  {
   "cell_type": "code",
   "execution_count": 278,
   "id": "f3197d7e-6610-4a3a-9377-0fc32042740d",
   "metadata": {},
   "outputs": [
    {
     "data": {
      "text/plain": [
       "<seaborn.axisgrid.FacetGrid at 0x14198125e20>"
      ]
     },
     "execution_count": 278,
     "metadata": {},
     "output_type": "execute_result"
    },
    {
     "data": {
      "image/png": "[encoded data removed]",
      "text/plain": [
       "<Figure size 360x360 with 1 Axes>"
      ]
     },
     "metadata": {
      "needs_background": "light"
     },
     "output_type": "display_data"
    }
   ],
   "source": [
    "sns.displot(scrobsdf[\"norm\"])"
   ]
  },
  {
   "cell_type": "markdown",
   "id": "d8fbcc4b-652c-4923-8890-02198453d232",
   "metadata": {},
   "source": [
    "### Converting to ratings\n",
    "\n",
    "This is great, now our users are comparable and the overall shape of the dataset seems to have been preserved, but these aren't representative scores. As this data only contains the top 50 artists of the user, each artist should receive a decently high rating. We can shift everything over with a log transformation with a chosen epsilon"
   ]
  },
  {
   "cell_type": "code",
   "execution_count": 382,
   "id": "2f05b889-7926-4ec4-b7a3-7dd11b281dc3",
   "metadata": {},
   "outputs": [
    {
     "data": {
      "image/png": "[encoded data removed]",
      "text/plain": [
       "<Figure size 800x800 with 9 Axes>"
      ]
     },
     "metadata": {
      "needs_background": "light"
     },
     "output_type": "display_data"
    }
   ],
   "source": [
    "fig = plt.figure(figsize=(10, 10), dpi=80)\n",
    "fig.subplots_adjust(hspace = .5, wspace = .4)\n",
    "ax = fig.add_subplot(3,3,1)\n",
    "ax.set_xlabel(\"rating\")\n",
    "ax.set_title(\"original\")\n",
    "sns.histplot(scrobsdf.norm, ax=ax)\n",
    "\n",
    "ax = fig.add_subplot(3,3,2)\n",
    "ax.set_xlabel(\"rating\")\n",
    "ax.set_title(\"log(x+0)\")\n",
    "newrating = np.log(scrobsdf.norm)\n",
    "newrating += abs(min(newrating))\n",
    "patches = sns.histplot(newrating, ax=ax).patches\n",
    "ax.axvline(x=patches[np.argmax([x.get_height() for x in patches])].get_x(), color='red')\n",
    "for i in range(3,10):\n",
    "    ax = fig.add_subplot(3, 3, i)\n",
    "    ax.set_xlabel(\"rating\")\n",
    "    eps = 10**-(i/4)\n",
    "    \n",
    "    ax.set_title(f\"log(x+{eps:0.3})\")\n",
    "    newrating = (np.log(scrobsdf.norm+eps))\n",
    "    newrating += abs(min(newrating))\n",
    "    data = newrating\n",
    "    _, bins, _ = plt.hist(data, 200, alpha=0.5, density=1)\n",
    "\n",
    "    mu, sigma = stats.norm.fit(data)\n",
    "\n",
    "    best_fit_line = stats.norm.pdf(bins, mu, sigma)\n",
    "\n",
    "    ax.plot(bins, best_fit_line)\n",
    "#     n, bins, patches = ax.hist(newrating, bins=<num of bins>, normed=True, fc='k', alpha=0.3)\n",
    "#     patches = sns.histplot(newrating, ax=ax).patches\n",
    "#     ax.axvline(x=patches[np.argmax([x.get_height() for x in patches])].get_x(), color='red')"
   ]
  },
  {
   "cell_type": "code",
   "execution_count": 364,
   "id": "09b44086-6570-4675-b9b7-0ce3c343b2ef",
   "metadata": {
    "collapsed": true,
    "jupyter": {
     "outputs_hidden": true
    },
    "tags": []
   },
   "outputs": [
    {
     "data": {
      "text/plain": [
       "[[0.0, 260],\n",
       " [0.06455961241818176, 296],\n",
       " [0.1291192248363635, 324],\n",
       " [0.19367883725454527, 337],\n",
       " [0.258238449672727, 365],\n",
       " [0.3227980620909088, 329],\n",
       " [0.38735767450909053, 416],\n",
       " [0.4519172869272723, 392],\n",
       " [0.516476899345454, 393],\n",
       " [0.5810365117636358, 470],\n",
       " [0.6455961241818176, 487],\n",
       " [0.7101557365999993, 477],\n",
       " [0.7747153490181811, 555],\n",
       " [0.8392749614363628, 484],\n",
       " [0.9038345738545446, 578],\n",
       " [0.9683941862727263, 633],\n",
       " [1.032953798690908, 617],\n",
       " [1.0975134111090898, 708],\n",
       " [1.1620730235272716, 776],\n",
       " [1.2266326359454534, 840],\n",
       " [1.291192248363635, 814],\n",
       " [1.3557518607818169, 860],\n",
       " [1.4203114731999986, 967],\n",
       " [1.4848710856181804, 1036],\n",
       " [1.5494306980363621, 1114],\n",
       " [1.6139903104545439, 1104],\n",
       " [1.6785499228727256, 1161],\n",
       " [1.7431095352909074, 1206],\n",
       " [1.8076691477090892, 1169],\n",
       " [1.872228760127271, 1297],\n",
       " [1.9367883725454527, 1362],\n",
       " [2.001347984963634, 1427],\n",
       " [2.065907597381816, 1489],\n",
       " [2.130467209799998, 1531],\n",
       " [2.1950268222181797, 1639],\n",
       " [2.259586434636361, 1619],\n",
       " [2.324146047054543, 1793],\n",
       " [2.388705659472725, 1772],\n",
       " [2.4532652718909067, 1954],\n",
       " [2.5178248843090882, 1943],\n",
       " [2.58238449672727, 2056],\n",
       " [2.646944109145452, 1984],\n",
       " [2.7115037215636337, 2089],\n",
       " [2.7760633339818153, 2026],\n",
       " [2.8406229463999972, 2125],\n",
       " [2.905182558818179, 2199],\n",
       " [2.9697421712363608, 2220],\n",
       " [3.0343017836545423, 2332],\n",
       " [3.0988613960727243, 2371],\n",
       " [3.1634210084909062, 2424],\n",
       " [3.2279806209090878, 2307],\n",
       " [3.2925402333272693, 2238],\n",
       " [3.3570998457454513, 2227],\n",
       " [3.4216594581636333, 2223],\n",
       " [3.486219070581815, 2051],\n",
       " [3.5507786829999963, 2011],\n",
       " [3.6153382954181783, 1897],\n",
       " [3.6798979078363603, 1762],\n",
       " [3.744457520254542, 1761],\n",
       " [3.8090171326727233, 1530],\n",
       " [3.8735767450909053, 1439],\n",
       " [3.9381363575090873, 1263],\n",
       " [4.002695969927268, 1308],\n",
       " [4.06725558234545, 1186],\n",
       " [4.131815194763632, 982],\n",
       " [4.196374807181814, 943],\n",
       " [4.260934419599996, 812],\n",
       " [4.325494032018177, 708],\n",
       " [4.390053644436359, 624],\n",
       " [4.454613256854541, 559],\n",
       " [4.519172869272722, 508],\n",
       " [4.583732481690904, 411],\n",
       " [4.648292094109086, 385],\n",
       " [4.712851706527268, 339],\n",
       " [4.77741131894545, 326],\n",
       " [4.841970931363631, 309],\n",
       " [4.906530543781813, 397],\n",
       " [4.971090156199995, 450],\n",
       " [5.0356497686181765, 536],\n",
       " [5.1002093810363585, 449]]"
      ]
     },
     "execution_count": 364,
     "metadata": {},
     "output_type": "execute_result"
    }
   ],
   "source": [
    "pts = [[p.get_x(),p.get_height()] for p in patches]\n",
    "pts"
   ]
  },
  {
   "cell_type": "code",
   "execution_count": 381,
   "id": "e57e8de0-1675-4d58-b778-ea6416b379e1",
   "metadata": {},
   "outputs": [
    {
     "data": {
      "text/plain": [
       "[<matplotlib.lines.Line2D at 0x141a36aee50>]"
      ]
     },
     "execution_count": 381,
     "metadata": {},
     "output_type": "execute_result"
    },
    {
     "data": {
      "image/png": "[encoded data removed]",
      "text/plain": [
       "<Figure size 432x288 with 1 Axes>"
      ]
     },
     "metadata": {
      "needs_background": "light"
     },
     "output_type": "display_data"
    }
   ],
   "source": []
  },
  {
   "cell_type": "raw",
   "id": "d9c27a87-3584-4b12-b9d8-ff3940f7e1c8",
   "metadata": {},
   "source": []
  },
  {
   "cell_type": "markdown",
   "id": "70ca1287-68c8-49ee-8a03-b6bf7d2e3d7b",
   "metadata": {},
   "source": [
    "We aren't looking for a normal distribution, as our data is cut off artifically at 50 artists, so we should find what looks like the right half of a normal distribution. This is where a judgement call must be made, as it's hard to say if 50 artists is enough to encapsulate scores below your most common. It is also hard to say if your 50th ranked artist should receive a rather good or a rather bad score. If you listen to "
   ]
  },
  {
   "cell_type": "code",
   "execution_count": null,
   "id": "0c5f68f7-c168-4a16-8902-357bea3bf603",
   "metadata": {},
   "outputs": [],
   "source": [
    "# scrobsdf[\"rating\"] = np.log((scrobsdf.scrobbles - umin) / (umax - umin))"
   ]
  },
  {
   "cell_type": "code",
   "execution_count": null,
   "id": "3a34de0d-751d-4dcf-bbe5-8d38af0cd985",
   "metadata": {},
   "outputs": [],
   "source": [
    "# scrobsdf[\"rating_sum\"] = np.log(scrobsdf.scrobbles / usum) + 12"
   ]
  },
  {
   "cell_type": "markdown",
   "id": "383caaca-0373-4419-a76f-8d0b64274eff",
   "metadata": {},
   "source": [
    "Drop users who havent' listened to a range of artists"
   ]
  },
  {
   "cell_type": "code",
   "execution_count": null,
   "id": "1e3c47b4-68b3-4726-9471-ac62eea3a0c3",
   "metadata": {},
   "outputs": [],
   "source": [
    "scrobsM = sparse.lil_matrix((max(scrobsdf[\"user_id\"])+1, max(scrobsdf[\"artist_id\"])+1)) # 0 indexing\n",
    "scrobsM[scrobsdf[\"user_id\"], scrobsdf[\"artist_id\"]] = scrobsdf[\"rating\"]\n",
    "scrobsM = scrobsM.tocsr()"
   ]
  },
  {
   "cell_type": "code",
   "execution_count": null,
   "id": "62bdf87e-99b1-4bd7-8136-796237a4de4d",
   "metadata": {},
   "outputs": [],
   "source": [
    "fig = plt.figure()\n",
    "fig.subplots_adjust(hspace=0.5, wspace=0.3)\n",
    "ax = fig.add_subplot(2,2,1)\n",
    "ax.set_xlabel(\"scrobbles norm\")\n",
    "sns.histplot(scrobsM[1].data,ax=ax)\n",
    "for i in range(2,5):\n",
    "    ax = fig.add_subplot(2, 2, i)\n",
    "    ax.set_xlabel(\"scrobbles norm\")\n",
    "    sns.histplot(scrobsM[i+11].data, ax=ax)\n",
    "\n",
    "plt.show()"
   ]
  },
  {
   "cell_type": "code",
   "execution_count": null,
   "id": "f52c1bca-4b6d-437b-b5cb-4175ebe0e6e9",
   "metadata": {},
   "outputs": [],
   "source": [
    "df = pd.read_csv(\"./data/lastfm_user_scrobbles.csv\")\n",
    "artdf = pd.read_csv(\"./data/lastfm_artist_list.csv\")\n",
    "artdf = artdf.set_index(\"artist_id\")\n",
    "artists = artdf.to_numpy().flatten()\n",
    "artists = np.insert(artists,0,'___empty___')\n",
    "df.scrobbles.describe()"
   ]
  },
  {
   "cell_type": "code",
   "execution_count": 260,
   "id": "bfe7f195-7e62-48b1-b1be-85af66becf29",
   "metadata": {},
   "outputs": [
    {
     "data": {
      "text/plain": [
       "array([[5, 7],\n",
       "       [7, 3],\n",
       "       [8, 1]], dtype=int64)"
      ]
     },
     "execution_count": 260,
     "metadata": {},
     "output_type": "execute_result"
    }
   ],
   "source": [
    "data = [[5, 7], [7, 3], [8, 1]]\n",
    "ctys = ['Boston', 'Phoenix', 'New York']\n",
    "df = pd.DataFrame(data, columns=['xcord', 'ycord'], index=ctys)\n",
    "df.values"
   ]
  },
  {
   "cell_type": "code",
   "execution_count": null,
   "id": "0cf5a514-ae2a-463a-9a6d-cc19caad4cc9",
   "metadata": {},
   "outputs": [],
   "source": [
    "def unskew(scrobs): \n",
    "    denom_max = np.repeat(scrobs.max(axis=1).A, scrobs.getnnz(axis=1))\n",
    "    denom_min = np.repeat(scrobs.min(axis=1).A, scrobs.getnnz(axis=1)) # incorrect, gives 0, we want non-zero minimum\n",
    "    return (scrobs.data - denom_min)/(denom_max - denom_min)\n",
    "# scrobs.data = unskew(scrobs)"
   ]
  },
  {
   "cell_type": "code",
   "execution_count": null,
   "id": "997e0de3-36a2-4c3a-bc07-aade16010ed8",
   "metadata": {},
   "outputs": [],
   "source": [
    "scrobsdf = pd.read_csv(\"./data/lastfm_user_scrobbles.csv\")\n",
    "df=scrobsdf\n",
    "# df[\"artist\"] = artdf.loc[df[\"artist_id\"].to_numpy()][\"artist_name\"].to_numpy()\n",
    "# df[\"rating\"] = (df.scrobbles) / df.groupby(\"user_id\").scrobbles.transform('max').to_numpy()\n",
    "scrobmin = df.groupby(\"user_id\").scrobbles.transform('min').to_numpy()\n",
    "scrobmax = df.groupby(\"user_id\").scrobbles.transform('max').to_numpy()\n",
    "scrobsum = df.groupby(\"user_id\").scrobbles.transform('sum').to_numpy()\n",
    "scrobsmean = df.groupby(\"user_id\").scrobbles.transform('mean').to_numpy()\n",
    "\n",
    "df[\"rating\"] = (df.scrobbles) / (scrobmax+scrobsmean)\n",
    "# df[\"rating\"] = df.scrobbles/scrobsum"
   ]
  },
  {
   "cell_type": "code",
   "execution_count": null,
   "id": "f957f081-00e9-428f-a7c7-84c316586d9f",
   "metadata": {},
   "outputs": [],
   "source": [
    "for i in range(10):\n",
    "    print(0.1**i)\n",
    "    eps = 0.1**i\n",
    "    newrating = (np.log(df.rating+eps))# + 12\n",
    "\n",
    "    newrating += abs(newrating.min())\n",
    "\n",
    "    newrating = pd.DataFrame(newrating)\n",
    "    print(newrating.describe())\n",
    "    sns.displot(newrating)\n"
   ]
  },
  {
   "cell_type": "code",
   "execution_count": 259,
   "id": "3a90a947-15fe-4659-a803-5d4ae599c84f",
   "metadata": {},
   "outputs": [
    {
     "ename": "NameError",
     "evalue": "name 'artists' is not defined",
     "output_type": "error",
     "traceback": [
      "\u001b[1;31m---------------------------------------------------------------------------\u001b[0m",
      "\u001b[1;31mNameError\u001b[0m                                 Traceback (most recent call last)",
      "\u001b[1;32m<ipython-input-259-161405828aa0>\u001b[0m in \u001b[0;36m<module>\u001b[1;34m\u001b[0m\n\u001b[0;32m      2\u001b[0m \u001b[0mscrobs\u001b[0m\u001b[1;33m[\u001b[0m\u001b[0mscrobsdf\u001b[0m\u001b[1;33m[\u001b[0m\u001b[1;34m\"user_id\"\u001b[0m\u001b[1;33m]\u001b[0m\u001b[1;33m,\u001b[0m \u001b[0mscrobsdf\u001b[0m\u001b[1;33m[\u001b[0m\u001b[1;34m\"artist_id\"\u001b[0m\u001b[1;33m]\u001b[0m\u001b[1;33m]\u001b[0m \u001b[1;33m=\u001b[0m \u001b[0mscrobsdf\u001b[0m\u001b[1;33m[\u001b[0m\u001b[1;34m\"scrobbles\"\u001b[0m\u001b[1;33m]\u001b[0m\u001b[1;33m\u001b[0m\u001b[1;33m\u001b[0m\u001b[0m\n\u001b[0;32m      3\u001b[0m \u001b[0mscrobs\u001b[0m \u001b[1;33m=\u001b[0m \u001b[0mscrobs\u001b[0m\u001b[1;33m.\u001b[0m\u001b[0mtocsr\u001b[0m\u001b[1;33m(\u001b[0m\u001b[1;33m)\u001b[0m\u001b[1;33m\u001b[0m\u001b[1;33m\u001b[0m\u001b[0m\n\u001b[1;32m----> 4\u001b[1;33m \u001b[0mtop50_scrobbled\u001b[0m \u001b[1;33m=\u001b[0m \u001b[0martists\u001b[0m\u001b[1;33m[\u001b[0m\u001b[1;33m(\u001b[0m\u001b[0mscrobs\u001b[0m\u001b[1;33m.\u001b[0m\u001b[0msum\u001b[0m\u001b[1;33m(\u001b[0m\u001b[0maxis\u001b[0m\u001b[1;33m=\u001b[0m\u001b[1;36m0\u001b[0m\u001b[1;33m)\u001b[0m\u001b[1;33m)\u001b[0m\u001b[1;33m.\u001b[0m\u001b[0mA\u001b[0m\u001b[1;33m[\u001b[0m\u001b[1;36m0\u001b[0m\u001b[1;33m]\u001b[0m\u001b[1;33m.\u001b[0m\u001b[0margsort\u001b[0m\u001b[1;33m(\u001b[0m\u001b[1;33m)\u001b[0m\u001b[1;33m[\u001b[0m\u001b[1;33m:\u001b[0m\u001b[1;33m:\u001b[0m\u001b[1;33m-\u001b[0m\u001b[1;36m1\u001b[0m\u001b[1;33m]\u001b[0m\u001b[1;33m]\u001b[0m\u001b[1;33m[\u001b[0m\u001b[1;33m:\u001b[0m\u001b[1;36m50\u001b[0m\u001b[1;33m]\u001b[0m\u001b[1;33m\u001b[0m\u001b[1;33m\u001b[0m\u001b[0m\n\u001b[0m",
      "\u001b[1;31mNameError\u001b[0m: name 'artists' is not defined"
     ]
    }
   ],
   "source": [
    "scrobs = sparse.lil_matrix((max(scrobsdf[\"user_id\"])+1, max(scrobsdf[\"artist_id\"])+1)) # 0 indexing\n",
    "scrobs[scrobsdf[\"user_id\"], scrobsdf[\"artist_id\"]] = scrobsdf[\"scrobbles\"]\n",
    "scrobs = scrobs.tocsr()\n",
    "top50_scrobbled = artists[(scrobs.sum(axis=0)).A[0].argsort()[::-1]][:50]"
   ]
  },
  {
   "cell_type": "code",
   "execution_count": 246,
   "id": "e157cd10-b906-47f6-af12-d51ad82ff28d",
   "metadata": {},
   "outputs": [
    {
     "ename": "NameError",
     "evalue": "name 'artists' is not defined",
     "output_type": "error",
     "traceback": [
      "\u001b[1;31m---------------------------------------------------------------------------\u001b[0m",
      "\u001b[1;31mNameError\u001b[0m                                 Traceback (most recent call last)",
      "\u001b[1;32m<ipython-input-246-fe30c38d420f>\u001b[0m in \u001b[0;36m<module>\u001b[1;34m\u001b[0m\n\u001b[0;32m      2\u001b[0m \u001b[0mratings\u001b[0m\u001b[1;33m[\u001b[0m\u001b[0mscrobsdf\u001b[0m\u001b[1;33m[\u001b[0m\u001b[1;34m\"user_id\"\u001b[0m\u001b[1;33m]\u001b[0m\u001b[1;33m,\u001b[0m \u001b[0mscrobsdf\u001b[0m\u001b[1;33m[\u001b[0m\u001b[1;34m\"artist_id\"\u001b[0m\u001b[1;33m]\u001b[0m\u001b[1;33m]\u001b[0m \u001b[1;33m=\u001b[0m \u001b[0mscrobsdf\u001b[0m\u001b[1;33m[\u001b[0m\u001b[1;34m\"norm\"\u001b[0m\u001b[1;33m]\u001b[0m\u001b[1;33m\u001b[0m\u001b[1;33m\u001b[0m\u001b[0m\n\u001b[0;32m      3\u001b[0m \u001b[0mratings\u001b[0m \u001b[1;33m=\u001b[0m \u001b[0mratings\u001b[0m\u001b[1;33m.\u001b[0m\u001b[0mtocsr\u001b[0m\u001b[1;33m(\u001b[0m\u001b[1;33m)\u001b[0m\u001b[1;33m\u001b[0m\u001b[1;33m\u001b[0m\u001b[0m\n\u001b[1;32m----> 4\u001b[1;33m \u001b[0mtop50_rated\u001b[0m \u001b[1;33m=\u001b[0m \u001b[0martists\u001b[0m\u001b[1;33m[\u001b[0m\u001b[1;33m(\u001b[0m\u001b[0mratings\u001b[0m\u001b[1;33m.\u001b[0m\u001b[0msum\u001b[0m\u001b[1;33m(\u001b[0m\u001b[0maxis\u001b[0m\u001b[1;33m=\u001b[0m\u001b[1;36m0\u001b[0m\u001b[1;33m)\u001b[0m\u001b[1;33m)\u001b[0m\u001b[1;33m.\u001b[0m\u001b[0mA\u001b[0m\u001b[1;33m[\u001b[0m\u001b[1;36m0\u001b[0m\u001b[1;33m]\u001b[0m\u001b[1;33m.\u001b[0m\u001b[0margsort\u001b[0m\u001b[1;33m(\u001b[0m\u001b[1;33m)\u001b[0m\u001b[1;33m[\u001b[0m\u001b[1;33m:\u001b[0m\u001b[1;33m:\u001b[0m\u001b[1;33m-\u001b[0m\u001b[1;36m1\u001b[0m\u001b[1;33m]\u001b[0m\u001b[1;33m]\u001b[0m\u001b[1;33m[\u001b[0m\u001b[1;33m:\u001b[0m\u001b[1;36m50\u001b[0m\u001b[1;33m]\u001b[0m\u001b[1;33m\u001b[0m\u001b[1;33m\u001b[0m\u001b[0m\n\u001b[0m",
      "\u001b[1;31mNameError\u001b[0m: name 'artists' is not defined"
     ]
    }
   ],
   "source": [
    "ratings = sparse.lil_matrix((max(scrobsdf[\"user_id\"])+1, max(scrobsdf[\"artist_id\"])+1)) # 0 indexing\n",
    "ratings[scrobsdf[\"user_id\"], scrobsdf[\"artist_id\"]] = scrobsdf[\"norm\"]\n",
    "ratings = ratings.tocsr()\n",
    "top50_rated = artists[(ratings.sum(axis=0)).A[0].argsort()[::-1]][:50]"
   ]
  },
  {
   "cell_type": "code",
   "execution_count": 245,
   "id": "ee135a0e-75ed-42a3-955b-42e3eb0be091",
   "metadata": {},
   "outputs": [
    {
     "ename": "NameError",
     "evalue": "name 'top50_rated' is not defined",
     "output_type": "error",
     "traceback": [
      "\u001b[1;31m---------------------------------------------------------------------------\u001b[0m",
      "\u001b[1;31mNameError\u001b[0m                                 Traceback (most recent call last)",
      "\u001b[1;32m<ipython-input-245-323701fe71f0>\u001b[0m in \u001b[0;36m<module>\u001b[1;34m\u001b[0m\n\u001b[1;32m----> 1\u001b[1;33m \u001b[0mpd\u001b[0m\u001b[1;33m.\u001b[0m\u001b[0mDataFrame\u001b[0m\u001b[1;33m(\u001b[0m\u001b[0mnp\u001b[0m\u001b[1;33m.\u001b[0m\u001b[0marray\u001b[0m\u001b[1;33m(\u001b[0m\u001b[1;33m[\u001b[0m\u001b[0mtop50_rated\u001b[0m\u001b[1;33m,\u001b[0m \u001b[0mtop50_scrobbled\u001b[0m\u001b[1;33m]\u001b[0m\u001b[1;33m)\u001b[0m\u001b[1;33m.\u001b[0m\u001b[0mT\u001b[0m\u001b[1;33m,\u001b[0m \u001b[0mcolumns\u001b[0m\u001b[1;33m=\u001b[0m\u001b[1;33m[\u001b[0m\u001b[1;34m\"rating\"\u001b[0m\u001b[1;33m,\u001b[0m \u001b[1;34m\"#listens\"\u001b[0m\u001b[1;33m]\u001b[0m\u001b[1;33m)\u001b[0m\u001b[1;33m\u001b[0m\u001b[1;33m\u001b[0m\u001b[0m\n\u001b[0m",
      "\u001b[1;31mNameError\u001b[0m: name 'top50_rated' is not defined"
     ]
    }
   ],
   "source": [
    "pd.DataFrame(np.array([top50_rated, top50_scrobbled]).T, columns=[\"rating\", \"#listens\"])"
   ]
  },
  {
   "cell_type": "code",
   "execution_count": null,
   "id": "3543eda8-9ff6-476d-b0bc-9fdbfa5d1153",
   "metadata": {},
   "outputs": [],
   "source": [
    "scrobsdf = pd.read_csv(\"./data/lastfm_user_scrobbles.csv\")\n",
    "scrobs = sparse.lil_matrix((max(scrobsdf[\"user_id\"])+1, max(scrobsdf[\"artist_id\"])+1)) # 0 indexing\n",
    "scrobs[scrobsdf[\"user_id\"], scrobsdf[\"artist_id\"]] = scrobsdf[\"scrobbles\"]\n",
    "scrobs = scrobs.tocsr()\n",
    "# scrobs.sum(axis=1)\n",
    "scrobs.min(axis=1).A"
   ]
  },
  {
   "cell_type": "code",
   "execution_count": null,
   "id": "cef13e47-5bdd-442e-b088-dc3980823188",
   "metadata": {},
   "outputs": [],
   "source": [
    "scrobsdf = pd.read_csv(\"./data/lastfm_user_scrobbles.csv\")\n",
    "scrobs = sparse.lil_matrix((max(scrobsdf[\"user_id\"])+1, max(scrobsdf[\"artist_id\"])+1)) # 0 indexing\n",
    "scrobs[scrobsdf[\"user_id\"], scrobsdf[\"artist_id\"]] = scrobsdf[\"scrobbles\"]\n",
    "scrobs = scrobs.tocsr()\n",
    "\n",
    "def unskew(scrobs):\n",
    "#     denom_max = np.repeat(scrobs.sum(axis=1).A, scrobs.getnnz(axis=1))\n",
    "#     return scrobs.data/denom_max\n",
    "    \n",
    "    denom_max = np.repeat(scrobs.max(axis=1).A, scrobs.getnnz(axis=1))\n",
    "    denom_min = np.repeat(scrobs.min(axis=1).A, scrobs.getnnz(axis=1)) # incorrect, gives 0, we want non-zero minimum\n",
    "    return (scrobs.data - denom_min)/(denom_max - denom_min)\n",
    "\n",
    "scrobs.data = unskew(scrobs)\n",
    "# scrobs.data=np.log(scrobs.data) + 12\n",
    "# print(pd.DataFrame(scrobs.data).describe())\n",
    "# sns.displot((scrobs.data))"
   ]
  },
  {
   "cell_type": "code",
   "execution_count": null,
   "id": "c1bd3695-f99d-4078-820c-9afe074dc6f0",
   "metadata": {},
   "outputs": [],
   "source": [
    "pd.DataFrame(scrobs.data).describe()"
   ]
  },
  {
   "cell_type": "code",
   "execution_count": null,
   "id": "4e5f4ba9-8e84-41d6-9125-9e649b7e1301",
   "metadata": {},
   "outputs": [],
   "source": []
  },
  {
   "cell_type": "code",
   "execution_count": null,
   "id": "aaefb03f-beb7-427c-ac2b-9e37fe5a2699",
   "metadata": {},
   "outputs": [],
   "source": [
    "scrobs.A"
   ]
  },
  {
   "cell_type": "code",
   "execution_count": null,
   "id": "85c002e7-ed49-4133-82da-aaefb5e0baca",
   "metadata": {},
   "outputs": [],
   "source": [
    "for i in range(10):\n",
    "    sns.displot(scrobs[i].data)"
   ]
  },
  {
   "cell_type": "markdown",
   "id": "2191f8d0-0eec-48fc-89df-b58d0ea5f86d",
   "metadata": {},
   "source": [
    "### Data reading"
   ]
  },
  {
   "cell_type": "code",
   "execution_count": null,
   "id": "efd61e86-5673-4dbf-b7ed-3183e7bd4aa0",
   "metadata": {},
   "outputs": [],
   "source": [
    "scrobsdf = pd.read_csv(\"./data/lastfm_user_scrobbles.csv\")"
   ]
  },
  {
   "cell_type": "code",
   "execution_count": null,
   "id": "eba3fa06-55e1-45e0-b1ef-6cb4168cbbf9",
   "metadata": {},
   "outputs": [],
   "source": [
    "df = scrobsdf\n",
    "df.scrobbles.describe()"
   ]
  },
  {
   "cell_type": "code",
   "execution_count": null,
   "id": "48600d60-2a07-4273-89e5-0c7cf6ae8341",
   "metadata": {},
   "outputs": [],
   "source": [
    "def normalize(column):\n",
    "    upper = column.max()\n",
    "    lower = column.min()\n",
    "    y = (column - lower)/(upper-lower)\n",
    "    return y"
   ]
  },
  {
   "cell_type": "code",
   "execution_count": null,
   "id": "8e13a307-09cb-4c87-a251-1b79b0546cef",
   "metadata": {},
   "outputs": [],
   "source": [
    "gmax = df.groupby(\"user_id\").scrobbles.transform('max')\n",
    "gmin = df.groupby(\"user_id\").scrobbles.transform('min')\n",
    "df.scrobbles = (df.scrobbles - gmin)/(gmax-gmin)"
   ]
  },
  {
   "cell_type": "code",
   "execution_count": null,
   "id": "d402fd5e-0b9d-4621-9d1a-4fc0f8935229",
   "metadata": {},
   "outputs": [],
   "source": [
    "normlog = df.scrobbles#normalize(np.log(df.scrobbles))\n",
    "print(normlog.describe())\n",
    "sns.displot(normlog)"
   ]
  },
  {
   "cell_type": "code",
   "execution_count": null,
   "id": "9865df10-8e2e-457c-b92c-537d469488c7",
   "metadata": {},
   "outputs": [],
   "source": [
    "artdf = pd.read_csv(\"./data/lastfm_artist_list.csv\")\n",
    "artdf = artdf.set_index(\"artist_id\")"
   ]
  },
  {
   "cell_type": "code",
   "execution_count": null,
   "id": "50f3ec1e-d962-4b9f-8c12-f6e51017487c",
   "metadata": {},
   "outputs": [],
   "source": [
    "artdf[artdf[\"artist_name\"].str.contains(\"ollier\")]"
   ]
  },
  {
   "cell_type": "markdown",
   "id": "16128485-af06-43ad-94eb-a519338428b3",
   "metadata": {},
   "source": [
    "### Make scipy csr sparse matrix from lil with users as rows and artist as column with # scrobbles as value"
   ]
  },
  {
   "cell_type": "code",
   "execution_count": null,
   "id": "57430d54-a91d-4f7f-bbcf-d6980ef7a0c3",
   "metadata": {
    "tags": []
   },
   "outputs": [],
   "source": [
    "scrobs = sparse.lil_matrix((max(scrobsdf[\"user_id\"])+1, max(scrobsdf[\"artist_id\"])+1)) # 0 indexing\n",
    "scrobs[scrobsdf[\"user_id\"], scrobsdf[\"artist_id\"]] = scrobsdf[\"scrobbles\"]\n",
    "scrobs = scrobs.tocsr()"
   ]
  },
  {
   "cell_type": "markdown",
   "id": "db490853-deb7-4753-ad14-b0c761d21e38",
   "metadata": {},
   "source": [
    "### Change #listens to ratings"
   ]
  },
  {
   "cell_type": "markdown",
   "id": "40d7be09-f2fb-411a-ae1e-1cd38c4b8dca",
   "metadata": {
    "tags": []
   },
   "source": [
    "This is to make collaborative filtering work, rather than values like 100, 90, 80 for the top 3 artists of a user, these would be scores representing how they might rate those artists. \n",
    "\n",
    "1. Divide by max\n",
    "    * result: 1, .9, .8\n",
    "    * ranking of a user's artists\n",
    "    * \n",
    "2. Divide by sum\n",
    "    * result: 0.37, 0.33, 0.29\n",
    "    * proportion of total listens that artist occupies\n",
    "    * users with many artists have lower ratings\n",
    "    * ranking doesn't affect rating, so "
   ]
  },
  {
   "cell_type": "code",
   "execution_count": null,
   "id": "187c0460-5910-41a2-ad26-1ef24924bd7c",
   "metadata": {},
   "outputs": [],
   "source": [
    "pd.DataFrame(unskew(scrobs)).describe()"
   ]
  },
  {
   "cell_type": "code",
   "execution_count": null,
   "id": "971596c6-6612-46ed-8bda-5d9a5bf7d1f8",
   "metadata": {},
   "outputs": [],
   "source": [
    "sns.displot(np.log(scrobs.data))"
   ]
  },
  {
   "cell_type": "code",
   "execution_count": null,
   "id": "f26a8a69-01ef-4b96-9b08-9fd2314e2c97",
   "metadata": {},
   "outputs": [],
   "source": [
    "for i in range(10):\n",
    "    sns.displot(scrobs[i].data)"
   ]
  },
  {
   "cell_type": "markdown",
   "id": "4d93246f-4446-4a39-a1e1-47a1d38bd21b",
   "metadata": {},
   "source": [
    "### ----PLAYGROUND----"
   ]
  },
  {
   "cell_type": "code",
   "execution_count": null,
   "id": "8446c1fe-5566-4815-b8be-76e4630105f1",
   "metadata": {},
   "outputs": [],
   "source": [
    "artdf.loc[stats.mode(scrobs.argmax(axis=1).A.T[0]).mode[0]]"
   ]
  },
  {
   "cell_type": "code",
   "execution_count": null,
   "id": "2b392cc2-6e7b-4347-8d8f-5e777f0295da",
   "metadata": {},
   "outputs": [],
   "source": [
    "# edges=[[1,2],[3,4],[1,5],[5,3]]\n",
    "toy = np.array([[1,1,2,3,3], [2,3,1,1,2]])\n",
    "toydata = np.array([100,10,200,300,30])\n",
    "lil = sparse.lil_matrix((3,3))\n",
    "lil[toy[0,:]-1,toy[1,:]-1] = toydata\n",
    "csr = lil.tocsr()\n",
    "csr.getnnz(axis=1)\n",
    "csr.max(axis=1).A\n",
    "denom = np.repeat(csr.max(axis=1).A,csr.getnnz(axis=1))\n",
    "csr.data = csr.data/denom\n",
    "len(csr.data)"
   ]
  },
  {
   "cell_type": "code",
   "execution_count": null,
   "id": "e1f564a2-681e-408e-88bd-91fbb7a5d474",
   "metadata": {},
   "outputs": [],
   "source": [
    "csr.data[csr.data < 1] = 0\n",
    "len(csr.data)\n",
    "csr.eliminate_zeros()\n",
    "csr.data"
   ]
  },
  {
   "cell_type": "code",
   "execution_count": null,
   "id": "ba8674e1-4cd1-4557-a13c-13ef5c882a90",
   "metadata": {},
   "outputs": [],
   "source": []
  }
 ],
 "metadata": {
  "kernelspec": {
   "display_name": "Python 3",
   "language": "python",
   "name": "python3"
  },
  "language_info": {
   "codemirror_mode": {
    "name": "ipython",
    "version": 3
   },
   "file_extension": ".py",
   "mimetype": "text/x-python",
   "name": "python",
   "nbconvert_exporter": "python",
   "pygments_lexer": "ipython3",
   "version": "3.8.8"
  }
 },
 "nbformat": 4,
 "nbformat_minor": 5
}
